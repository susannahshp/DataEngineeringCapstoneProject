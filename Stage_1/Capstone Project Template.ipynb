{
 "cells": [
  {
   "cell_type": "markdown",
   "metadata": {},
   "source": [
    "# Data Engineering Capstone Project - Stage 1"
   ]
  },
  {
   "cell_type": "markdown",
   "metadata": {},
   "source": [
    "## Step 1. Gathering data "
   ]
  },
  {
   "cell_type": "markdown",
   "metadata": {},
   "source": [
    "### Importing modules needed for this project"
   ]
  },
  {
   "cell_type": "code",
   "execution_count": 1,
   "metadata": {},
   "outputs": [],
   "source": [
    "from pyspark.sql.types import *\n",
    "from pyspark.sql import functions as F"
   ]
  },
  {
   "cell_type": "markdown",
   "metadata": {},
   "source": [
    "### Creating and configuring SparkSession"
   ]
  },
  {
   "cell_type": "code",
   "execution_count": 2,
   "metadata": {},
   "outputs": [],
   "source": [
    "import findspark\n",
    "findspark.init('/path/to/spark/home')\n",
    "\n",
    "from pyspark.sql import SparkSession\n",
    "spark = SparkSession.builder \\\n",
    "        .config(\"spark.jars.packages\",\"saurfang:spark-sas7bdat:2.0.0-s_2.11,org.apache.hadoop:hadoop-aws:2.7.2,com.amazonaws:aws-java-sdk:1.7.4\") \\\n",
    "        .enableHiveSupport().getOrCreate()\n",
    "\n",
    "spark._jsc.hadoopConfiguration().set(\"fs.s3a.access.key\", \"\")\n",
    "spark._jsc.hadoopConfiguration().set(\"fs.s3a.secret.key\", \"\")"
   ]
  },
  {
   "cell_type": "markdown",
   "metadata": {},
   "source": [
    "### Getting data: Immigration Dataframe"
   ]
  },
  {
   "cell_type": "code",
   "execution_count": 3,
   "metadata": {},
   "outputs": [],
   "source": [
    "immigration_df = spark.read.format('com.github.saurfang.sas.spark').load('/path/to/i94_apr16_sub.sas7bdat').dropDuplicates()"
   ]
  },
  {
   "cell_type": "code",
   "execution_count": 4,
   "metadata": {},
   "outputs": [
    {
     "data": {
      "text/plain": [
       "3096313"
      ]
     },
     "execution_count": 4,
     "metadata": {},
     "output_type": "execute_result"
    }
   ],
   "source": [
    "immigration_df.count()"
   ]
  },
  {
   "cell_type": "code",
   "execution_count": 7,
   "metadata": {},
   "outputs": [
    {
     "name": "stdout",
     "output_type": "stream",
     "text": [
      "+------+------+------+------+------+-------+-------+-------+-------+-------+------+-------+-----+--------+--------+-----+-------+-------+-------+-------+-------+--------+------+------+-------+---------------+-----+--------+\n",
      "| cicid| i94yr|i94mon|i94cit|i94res|i94port|arrdate|i94mode|i94addr|depdate|i94bir|i94visa|count|dtadfile|visapost|occup|entdepa|entdepd|entdepu|matflag|biryear| dtaddto|gender|insnum|airline|         admnum|fltno|visatype|\n",
      "+------+------+------+------+------+-------+-------+-------+-------+-------+------+-------+-----+--------+--------+-----+-------+-------+-------+-------+-------+--------+------+------+-------+---------------+-----+--------+\n",
      "| 474.0|2016.0|   4.0| 103.0| 103.0|    NEW|20545.0|    2.0|   null|20547.0|  25.0|    2.0|  1.0|20160401|    null| null|      G|      O|   null|      M| 1991.0|06292016|     F|  null|    VES|5.5410441233E10|91285|      WT|\n",
      "|1508.0|2016.0|   4.0| 104.0| 104.0|    NYC|20545.0|    1.0|     NY|20552.0|  16.0|    2.0|  1.0|20160401|    null| null|      G|      O|   null|      M| 2000.0|06292016|     F|  null|     LX|5.5416411533E10|00016|      WT|\n",
      "|1669.0|2016.0|   4.0| 104.0| 104.0|    NYC|20545.0|    1.0|     FL|20561.0|  57.0|    2.0|  1.0|20160401|    null| null|      G|      O|   null|      M| 1959.0|06292016|     M|  null|     AA|5.5457751333E10|00039|      WT|\n",
      "|2025.0|2016.0|   4.0| 104.0| 104.0|    NYC|20545.0|    1.0|     NY|20549.0|  51.0|    2.0|  1.0|20160401|    null| null|      O|      O|   null|      M| 1965.0|06292016|  null|  null|     SN|5.5419979133E10|01401|      WT|\n",
      "|2048.0|2016.0|   4.0| 104.0| 104.0|    MIA|20545.0|    1.0|     FL|20554.0|   3.0|    2.0|  1.0|20160401|    null| null|      O|      O|   null|      M| 2013.0|06292016|  null|  null|     UX|5.5456895133E10|00097|      WT|\n",
      "|2294.0|2016.0|   4.0| 107.0| 107.0|    CHI|20545.0|    1.0|     IL|20575.0|  54.0|    2.0|  1.0|20160401|    null| null|      T|      O|   null|      M| 1962.0|09302016|     F|  null|     LO|   6.69708585E8|    3|      B2|\n",
      "|2816.0|2016.0|   4.0| 107.0| 107.0|    TAM|20545.0|    1.0|     FL|20572.0|  79.0|    2.0|  1.0|20160401|     WRW| null|      G|      O|   null|      M| 1937.0|09302016|     F|  null|     WK| 9.250197923E10|00004|      B2|\n",
      "|2872.0|2016.0|   4.0| 108.0| 108.0|    BOS|20545.0|    1.0|     MA|20554.0|  51.0|    1.0|  1.0|20160401|    null| null|      G|      O|   null|      M| 1965.0|06292016|     F|  null|     SK|5.5435205033E10|00927|      WB|\n",
      "|2993.0|2016.0|   4.0| 108.0| 108.0|    NEW|20545.0|    1.0|     NY|20552.0|  50.0|    2.0|  1.0|20160401|    null| null|      G|      O|   null|      M| 1966.0|06292016|     F|  null|     SK|5.5415488433E10|00909|      WT|\n",
      "|3539.0|2016.0|   4.0| 108.0| 108.0|    SAJ|20545.0|    1.0|     PR|20552.0|  72.0|    2.0|  1.0|20160401|    null| null|      G|      O|   null|      M| 1944.0|06292016|     M|  null|     DY|5.5421043433E10|07125|      WT|\n",
      "+------+------+------+------+------+-------+-------+-------+-------+-------+------+-------+-----+--------+--------+-----+-------+-------+-------+-------+-------+--------+------+------+-------+---------------+-----+--------+\n",
      "only showing top 10 rows\n",
      "\n"
     ]
    }
   ],
   "source": [
    "immigration_df.show(10)"
   ]
  },
  {
   "cell_type": "code",
   "execution_count": 8,
   "metadata": {},
   "outputs": [
    {
     "name": "stdout",
     "output_type": "stream",
     "text": [
      "root\n",
      " |-- cicid: double (nullable = true)\n",
      " |-- i94yr: double (nullable = true)\n",
      " |-- i94mon: double (nullable = true)\n",
      " |-- i94cit: double (nullable = true)\n",
      " |-- i94res: double (nullable = true)\n",
      " |-- i94port: string (nullable = true)\n",
      " |-- arrdate: double (nullable = true)\n",
      " |-- i94mode: double (nullable = true)\n",
      " |-- i94addr: string (nullable = true)\n",
      " |-- depdate: double (nullable = true)\n",
      " |-- i94bir: double (nullable = true)\n",
      " |-- i94visa: double (nullable = true)\n",
      " |-- count: double (nullable = true)\n",
      " |-- dtadfile: string (nullable = true)\n",
      " |-- visapost: string (nullable = true)\n",
      " |-- occup: string (nullable = true)\n",
      " |-- entdepa: string (nullable = true)\n",
      " |-- entdepd: string (nullable = true)\n",
      " |-- entdepu: string (nullable = true)\n",
      " |-- matflag: string (nullable = true)\n",
      " |-- biryear: double (nullable = true)\n",
      " |-- dtaddto: string (nullable = true)\n",
      " |-- gender: string (nullable = true)\n",
      " |-- insnum: string (nullable = true)\n",
      " |-- airline: string (nullable = true)\n",
      " |-- admnum: double (nullable = true)\n",
      " |-- fltno: string (nullable = true)\n",
      " |-- visatype: string (nullable = true)\n",
      "\n"
     ]
    }
   ],
   "source": [
    "immigration_df.printSchema()"
   ]
  },
  {
   "cell_type": "markdown",
   "metadata": {},
   "source": [
    "### Changing data types of the columns"
   ]
  },
  {
   "cell_type": "code",
   "execution_count": 4,
   "metadata": {},
   "outputs": [],
   "source": [
    "immigration_df = immigration_df \\\n",
    "        .withColumn(\"cicid\", immigration_df[\"cicid\"].cast(IntegerType())) \\\n",
    "        .withColumn(\"i94yr\", immigration_df[\"i94yr\"].cast(IntegerType())) \\\n",
    "        .withColumn(\"i94mon\", immigration_df[\"i94mon\"].cast(IntegerType())) \\\n",
    "        .withColumn(\"i94cit\", immigration_df[\"i94cit\"].cast(IntegerType())) \\\n",
    "        .withColumn(\"i94res\", immigration_df[\"i94res\"].cast(IntegerType())) \\\n",
    "        .withColumn(\"arrdate\", immigration_df[\"arrdate\"].cast(StringType())) \\\n",
    "        .withColumn(\"i94mode\", immigration_df[\"i94mode\"].cast(IntegerType())) \\\n",
    "        .withColumn(\"depdate\", immigration_df[\"depdate\"].cast(StringType())) \\\n",
    "        .withColumn(\"i94bir\", immigration_df[\"i94bir\"].cast(IntegerType())) \\\n",
    "        .withColumn(\"i94visa\", immigration_df[\"i94visa\"].cast(IntegerType())) \\\n",
    "        .withColumn(\"count\", immigration_df[\"count\"].cast(IntegerType())) \\"
   ]
  },
  {
   "cell_type": "code",
   "execution_count": 10,
   "metadata": {},
   "outputs": [
    {
     "name": "stdout",
     "output_type": "stream",
     "text": [
      "root\n",
      " |-- cicid: integer (nullable = true)\n",
      " |-- i94yr: integer (nullable = true)\n",
      " |-- i94mon: integer (nullable = true)\n",
      " |-- i94cit: integer (nullable = true)\n",
      " |-- i94res: integer (nullable = true)\n",
      " |-- i94port: string (nullable = true)\n",
      " |-- arrdate: string (nullable = true)\n",
      " |-- i94mode: integer (nullable = true)\n",
      " |-- i94addr: string (nullable = true)\n",
      " |-- depdate: string (nullable = true)\n",
      " |-- i94bir: integer (nullable = true)\n",
      " |-- i94visa: integer (nullable = true)\n",
      " |-- count: integer (nullable = true)\n",
      " |-- dtadfile: string (nullable = true)\n",
      " |-- visapost: string (nullable = true)\n",
      " |-- occup: string (nullable = true)\n",
      " |-- entdepa: string (nullable = true)\n",
      " |-- entdepd: string (nullable = true)\n",
      " |-- entdepu: string (nullable = true)\n",
      " |-- matflag: string (nullable = true)\n",
      " |-- biryear: double (nullable = true)\n",
      " |-- dtaddto: string (nullable = true)\n",
      " |-- gender: string (nullable = true)\n",
      " |-- insnum: string (nullable = true)\n",
      " |-- airline: string (nullable = true)\n",
      " |-- admnum: double (nullable = true)\n",
      " |-- fltno: string (nullable = true)\n",
      " |-- visatype: string (nullable = true)\n",
      "\n"
     ]
    }
   ],
   "source": [
    "immigration_df.printSchema()"
   ]
  },
  {
   "cell_type": "code",
   "execution_count": 5,
   "metadata": {},
   "outputs": [],
   "source": [
    "immigration_df = immigration_df.select(\"cicid\",\"i94yr\",\"i94mon\",\"i94cit\",\"i94res\",\"i94port\",\"arrdate\",\"i94mode\",\"i94addr\",\"depdate\",\"i94bir\",\"i94visa\",\"count\",\"gender\",\"airline\",\"fltno\",\"visatype\")"
   ]
  },
  {
   "cell_type": "code",
   "execution_count": 12,
   "metadata": {},
   "outputs": [
    {
     "name": "stdout",
     "output_type": "stream",
     "text": [
      "root\n",
      " |-- cicid: integer (nullable = true)\n",
      " |-- i94yr: integer (nullable = true)\n",
      " |-- i94mon: integer (nullable = true)\n",
      " |-- i94cit: integer (nullable = true)\n",
      " |-- i94res: integer (nullable = true)\n",
      " |-- i94port: string (nullable = true)\n",
      " |-- arrdate: string (nullable = true)\n",
      " |-- i94mode: integer (nullable = true)\n",
      " |-- i94addr: string (nullable = true)\n",
      " |-- depdate: string (nullable = true)\n",
      " |-- i94bir: integer (nullable = true)\n",
      " |-- i94visa: integer (nullable = true)\n",
      " |-- count: integer (nullable = true)\n",
      " |-- gender: string (nullable = true)\n",
      " |-- airline: string (nullable = true)\n",
      " |-- fltno: string (nullable = true)\n",
      " |-- visatype: string (nullable = true)\n",
      "\n"
     ]
    }
   ],
   "source": [
    "immigration_df.printSchema()"
   ]
  },
  {
   "cell_type": "code",
   "execution_count": 13,
   "metadata": {},
   "outputs": [
    {
     "name": "stdout",
     "output_type": "stream",
     "text": [
      "+-----+-----+------+------+------+-------+-------+-------+-------+-------+------+-------+-----+------+-------+-----+--------+\n",
      "|cicid|i94yr|i94mon|i94cit|i94res|i94port|arrdate|i94mode|i94addr|depdate|i94bir|i94visa|count|gender|airline|fltno|visatype|\n",
      "+-----+-----+------+------+------+-------+-------+-------+-------+-------+------+-------+-----+------+-------+-----+--------+\n",
      "|  474| 2016|     4|   103|   103|    NEW|20545.0|      2|   null|20547.0|    25|      2|    1|     F|    VES|91285|      WT|\n",
      "| 1508| 2016|     4|   104|   104|    NYC|20545.0|      1|     NY|20552.0|    16|      2|    1|     F|     LX|00016|      WT|\n",
      "| 1669| 2016|     4|   104|   104|    NYC|20545.0|      1|     FL|20561.0|    57|      2|    1|     M|     AA|00039|      WT|\n",
      "| 2025| 2016|     4|   104|   104|    NYC|20545.0|      1|     NY|20549.0|    51|      2|    1|  null|     SN|01401|      WT|\n",
      "| 2048| 2016|     4|   104|   104|    MIA|20545.0|      1|     FL|20554.0|     3|      2|    1|  null|     UX|00097|      WT|\n",
      "| 2294| 2016|     4|   107|   107|    CHI|20545.0|      1|     IL|20575.0|    54|      2|    1|     F|     LO|    3|      B2|\n",
      "| 2816| 2016|     4|   107|   107|    TAM|20545.0|      1|     FL|20572.0|    79|      2|    1|     F|     WK|00004|      B2|\n",
      "| 2872| 2016|     4|   108|   108|    BOS|20545.0|      1|     MA|20554.0|    51|      1|    1|     F|     SK|00927|      WB|\n",
      "| 2993| 2016|     4|   108|   108|    NEW|20545.0|      1|     NY|20552.0|    50|      2|    1|     F|     SK|00909|      WT|\n",
      "| 3539| 2016|     4|   108|   108|    SAJ|20545.0|      1|     PR|20552.0|    72|      2|    1|     M|     DY|07125|      WT|\n",
      "| 3776| 2016|     4|   109|   109|    BOS|20545.0|      1|     MA|20569.0|    73|      2|    1|     F|     LH|00422|      WT|\n",
      "| 3801| 2016|     4|   109|   109|    LOS|20545.0|      1|     CA|20572.0|    36|      2|    1|  null|     AA|00109|      WT|\n",
      "| 4483| 2016|     4|   111|   111|    ATL|20545.0|      1|     GA|20556.0|    45|      2|    1|     F|     AF|00688|      WT|\n",
      "| 4927| 2016|     4|   111|   111|    DAL|20545.0|      1|     TX|20558.0|    64|      2|    1|     F|     LH|00438|      WT|\n",
      "| 4961| 2016|     4|   111|   111|    DET|20545.0|      1|     IL|20552.0|    61|      2|    1|  null|     AF|00378|      WT|\n",
      "| 5166| 2016|     4|   111|   111|    NEW|20545.0|      1|     NY|20549.0|    53|      2|    1|     F|     LH|00402|      WT|\n",
      "| 5269| 2016|     4|   111|   111|    NEW|20545.0|      1|     NY|20551.0|    44|      2|    1|     F|     UA|00056|      WT|\n",
      "| 5904| 2016|     4|   111|   111|    NYC|20545.0|      1|     FL|20555.0|    12|      2|    1|  null|     AF|00006|      WT|\n",
      "| 5915| 2016|     4|   111|   111|    NYC|20545.0|      1|     MA|   null|    56|      2|    1|     F|     DL|00405|      WT|\n",
      "| 5919| 2016|     4|   111|   111|    NYC|20545.0|      1|     MA|20559.0|    52|      2|    1|     F|     AA|00121|      WT|\n",
      "+-----+-----+------+------+------+-------+-------+-------+-------+-------+------+-------+-----+------+-------+-----+--------+\n",
      "only showing top 20 rows\n",
      "\n"
     ]
    }
   ],
   "source": [
    "immigration_df.show()"
   ]
  },
  {
   "cell_type": "markdown",
   "metadata": {},
   "source": [
    "### Getting data: Demographics Dataframe"
   ]
  },
  {
   "cell_type": "code",
   "execution_count": 6,
   "metadata": {},
   "outputs": [],
   "source": [
    "demographics_df = spark.read.format(\"csv\").option(\"delimiter\", \";\").option(\"header\",\"true\").load(\"/path/to/us-cities-demographics.csv\").dropDuplicates()"
   ]
  },
  {
   "cell_type": "code",
   "execution_count": 11,
   "metadata": {},
   "outputs": [
    {
     "data": {
      "text/plain": [
       "2891"
      ]
     },
     "execution_count": 11,
     "metadata": {},
     "output_type": "execute_result"
    }
   ],
   "source": [
    "demographics_df.count()"
   ]
  },
  {
   "cell_type": "code",
   "execution_count": 16,
   "metadata": {},
   "outputs": [
    {
     "name": "stdout",
     "output_type": "stream",
     "text": [
      "+-------------+------------+----------+---------------+-----------------+----------------+------------------+------------+----------------------+----------+--------------------+------+\n",
      "|         City|       State|Median Age|Male Population|Female Population|Total Population|Number of Veterans|Foreign-born|Average Household Size|State Code|                Race| Count|\n",
      "+-------------+------------+----------+---------------+-----------------+----------------+------------------+------------+----------------------+----------+--------------------+------+\n",
      "|      Lynwood|  California|      29.4|          35634|            36371|           72005|               776|       28061|                  4.43|        CA|Black or African-...|  5346|\n",
      "|    Hollywood|     Florida|      41.4|          75358|            74363|          149721|              6056|       55158|                  2.65|        FL|               White|107916|\n",
      "|      Fremont|  California|      38.3|         114383|           117808|          232191|              4629|      109427|                  3.12|        CA|  Hispanic or Latino| 29594|\n",
      "|   Atascocita|       Texas|      32.8|          37424|            40816|           78240|              4416|        8657|                  3.03|        TX|Black or African-...| 21491|\n",
      "|      Brandon|     Florida|      36.1|          55679|            58289|          113968|              9417|       16390|                  2.64|        FL|American Indian a...|  1921|\n",
      "|    Rockville|    Maryland|      38.1|          31205|            35793|           66998|              1990|       25047|                   2.6|        MD|Black or African-...|  7533|\n",
      "|   Rapid City|South Dakota|      39.5|          36122|            37446|           73568|              7429|        2375|                  2.31|        SD|Black or African-...|  2217|\n",
      "|       Conroe|       Texas|      31.5|          34907|            33685|           68592|              4871|       13839|                  2.65|        TX|  Hispanic or Latino| 23863|\n",
      "|Oklahoma City|    Oklahoma|      34.1|         309227|           322036|          631263|             41843|       80165|                  2.58|        OK|Black or African-...|111673|\n",
      "|      Hayward|  California|      34.3|          78152|            80148|          158300|              4385|       60970|                  3.32|        CA|               White| 74800|\n",
      "+-------------+------------+----------+---------------+-----------------+----------------+------------------+------------+----------------------+----------+--------------------+------+\n",
      "only showing top 10 rows\n",
      "\n"
     ]
    }
   ],
   "source": [
    "demographics_df.show(10)"
   ]
  },
  {
   "cell_type": "code",
   "execution_count": 17,
   "metadata": {},
   "outputs": [
    {
     "name": "stdout",
     "output_type": "stream",
     "text": [
      "root\n",
      " |-- City: string (nullable = true)\n",
      " |-- State: string (nullable = true)\n",
      " |-- Median Age: string (nullable = true)\n",
      " |-- Male Population: string (nullable = true)\n",
      " |-- Female Population: string (nullable = true)\n",
      " |-- Total Population: string (nullable = true)\n",
      " |-- Number of Veterans: string (nullable = true)\n",
      " |-- Foreign-born: string (nullable = true)\n",
      " |-- Average Household Size: string (nullable = true)\n",
      " |-- State Code: string (nullable = true)\n",
      " |-- Race: string (nullable = true)\n",
      " |-- Count: string (nullable = true)\n",
      "\n"
     ]
    }
   ],
   "source": [
    "demographics_df.printSchema()"
   ]
  },
  {
   "cell_type": "markdown",
   "metadata": {},
   "source": [
    "### Changing data types of the columns and renaming columns"
   ]
  },
  {
   "cell_type": "code",
   "execution_count": 7,
   "metadata": {},
   "outputs": [],
   "source": [
    "demographics_df = demographics_df \\\n",
    "        .withColumn(\"Total Population\", demographics_df[\"Total Population\"].cast(IntegerType())) \\\n",
    "        .withColumn(\"Male Population\", demographics_df[\"Male Population\"].cast(IntegerType())) \\\n",
    "        .withColumn(\"Female Population\", demographics_df[\"Female Population\"].cast(IntegerType())) \\\n",
    "        .withColumn(\"Number of Veterans\", demographics_df[\"Number of Veterans\"].cast(IntegerType())) \\\n",
    "        .withColumn(\"Foreign-born\", demographics_df[\"Foreign-born\"].cast(IntegerType())) \\\n",
    "        .withColumn(\"Count\", demographics_df[\"Count\"].cast(IntegerType()))"
   ]
  },
  {
   "cell_type": "code",
   "execution_count": 8,
   "metadata": {},
   "outputs": [],
   "source": [
    "demographics_df = demographics_df \\\n",
    "        .withColumnRenamed(\"City\", \"city\") \\\n",
    "        .withColumnRenamed(\"State\", \"state\") \\\n",
    "        .withColumnRenamed(\"Median Age\", \"median_age\") \\\n",
    "        .withColumnRenamed(\"Male Population\", \"male_population\") \\\n",
    "        .withColumnRenamed(\"Female Population\", \"female_population\") \\\n",
    "        .withColumnRenamed(\"Total Population\", \"total_population\") \\\n",
    "        .withColumnRenamed(\"Number of Veterans\", \"num_of_veterans\") \\\n",
    "        .withColumnRenamed(\"Foreign-born\", \"foreign_born\") \\\n",
    "        .withColumnRenamed(\"Average Household Size\", \"avg_household_size\") \\\n",
    "        .withColumnRenamed(\"State Code\", \"state_code\") \\\n",
    "        .withColumnRenamed(\"Race\", \"race\") \\\n",
    "        .withColumnRenamed(\"Count\", \"count\") \\"
   ]
  },
  {
   "cell_type": "code",
   "execution_count": 20,
   "metadata": {},
   "outputs": [
    {
     "name": "stdout",
     "output_type": "stream",
     "text": [
      "+--------------------+------------+----------+---------------+-----------------+----------------+---------------+------------+------------------+----------+--------------------+------+\n",
      "|                city|       state|median_age|male_population|female_population|total_population|num_of_veterans|foreign_born|avg_household_size|state_code|                race| count|\n",
      "+--------------------+------------+----------+---------------+-----------------+----------------+---------------+------------+------------------+----------+--------------------+------+\n",
      "|             Lynwood|  California|      29.4|          35634|            36371|           72005|            776|       28061|              4.43|        CA|Black or African-...|  5346|\n",
      "|           Hollywood|     Florida|      41.4|          75358|            74363|          149721|           6056|       55158|              2.65|        FL|               White|107916|\n",
      "|             Fremont|  California|      38.3|         114383|           117808|          232191|           4629|      109427|              3.12|        CA|  Hispanic or Latino| 29594|\n",
      "|          Atascocita|       Texas|      32.8|          37424|            40816|           78240|           4416|        8657|              3.03|        TX|Black or African-...| 21491|\n",
      "|             Brandon|     Florida|      36.1|          55679|            58289|          113968|           9417|       16390|              2.64|        FL|American Indian a...|  1921|\n",
      "|           Rockville|    Maryland|      38.1|          31205|            35793|           66998|           1990|       25047|               2.6|        MD|Black or African-...|  7533|\n",
      "|          Rapid City|South Dakota|      39.5|          36122|            37446|           73568|           7429|        2375|              2.31|        SD|Black or African-...|  2217|\n",
      "|              Conroe|       Texas|      31.5|          34907|            33685|           68592|           4871|       13839|              2.65|        TX|  Hispanic or Latino| 23863|\n",
      "|       Oklahoma City|    Oklahoma|      34.1|         309227|           322036|          631263|          41843|       80165|              2.58|        OK|Black or African-...|111673|\n",
      "|             Hayward|  California|      34.3|          78152|            80148|          158300|           4385|       60970|              3.32|        CA|               White| 74800|\n",
      "|            Franklin|   Tennessee|      38.3|          34991|            37644|           72635|           3303|        6876|              2.73|        TN|               White| 61459|\n",
      "|           Sunnyvale|  California|      35.7|          79480|            72280|          151760|           3900|       71441|              2.74|        CA|American Indian a...|  1179|\n",
      "|             Decatur|    Illinois|      40.4|          34646|            38210|           72856|           5291|        1224|              2.23|        IL|  Hispanic or Latino|  1709|\n",
      "|            Syracuse|    New York|      30.3|          69462|            74690|          144152|           5845|       17733|              2.39|        NY|               Asian|  9386|\n",
      "|          Des Moines|        Iowa|      34.5|         103726|           106591|          210317|          11780|       23857|              2.41|        IA|Black or African-...| 26353|\n",
      "|              Olathe|      Kansas|      33.0|          65046|            69270|          134316|           6042|       11913|              2.97|        KS|               Asian|  6288|\n",
      "|               Eagan|   Minnesota|      36.8|          31587|            34701|           66288|           2699|        8642|              2.49|        MN|               Asian|  6923|\n",
      "|           Pawtucket|Rhode Island|      39.2|          36072|            35511|           71583|           3173|       17884|              2.41|        RI|  Hispanic or Latino| 16117|\n",
      "|North Richland Hills|       Texas|      39.9|          35257|            33948|           69205|           5175|        7854|              2.64|        TX|American Indian a...|  1127|\n",
      "|            Alhambra|  California|      41.0|          42184|            43388|           85572|           1673|       44441|              2.89|        CA|               Asian| 44067|\n",
      "+--------------------+------------+----------+---------------+-----------------+----------------+---------------+------------+------------------+----------+--------------------+------+\n",
      "only showing top 20 rows\n",
      "\n"
     ]
    }
   ],
   "source": [
    "demographics_df.show()"
   ]
  },
  {
   "cell_type": "markdown",
   "metadata": {},
   "source": [
    "## Step 2. ETL - Extracting and transforming data"
   ]
  },
  {
   "cell_type": "markdown",
   "metadata": {},
   "source": [
    "### Transforming data in order to make tables"
   ]
  },
  {
   "cell_type": "code",
   "execution_count": 9,
   "metadata": {},
   "outputs": [],
   "source": [
    "pivot_demographics_df = demographics_df.groupBy(\"state_code\").pivot(\"race\").sum(\"count\").sort(\"state_code\")"
   ]
  },
  {
   "cell_type": "code",
   "execution_count": 10,
   "metadata": {},
   "outputs": [],
   "source": [
    "pivot_demographics_df = pivot_demographics_df \\\n",
    "        .withColumnRenamed(\"American Indian and Alaska Native\", \"indian\") \\\n",
    "        .withColumnRenamed(\"Asian\", \"asian\") \\\n",
    "        .withColumnRenamed(\"Black or African-American\", \"black\") \\\n",
    "        .withColumnRenamed(\"Hispanic or Latino\", \"hispanic\") \\\n",
    "        .withColumnRenamed(\"White\", \"white\")"
   ]
  },
  {
   "cell_type": "code",
   "execution_count": 67,
   "metadata": {},
   "outputs": [
    {
     "name": "stdout",
     "output_type": "stream",
     "text": [
      "+----------+------+-------+-------+--------+--------+\n",
      "|state_code|indian|  asian|  black|hispanic|   white|\n",
      "+----------+------+-------+-------+--------+--------+\n",
      "|        AK| 36339|  36825|  23107|   27261|  212696|\n",
      "|        AL|  8084|  28769| 521068|   39313|  498920|\n",
      "|        AR|  9381|  22062| 149608|   77813|  384733|\n",
      "|        AZ|129708| 229183| 296222| 1508157| 3591611|\n",
      "|        CA|401386|4543730|2047009| 9856464|14905129|\n",
      "|        CO| 62613| 148790| 208043|  703722| 2463916|\n",
      "|        CT| 10729|  48311| 231822|  309992|  505674|\n",
      "|        DC|  6130|  35072| 328786|   71129|  285402|\n",
      "|        DE|   414|   1193|  44182|    5516|   23743|\n",
      "|        FL| 46759| 264933|1652619| 1942022| 4758144|\n",
      "|        GA| 15746|  94136| 779361|  114366|  830002|\n",
      "|        HI|  5592| 240978|  11781|   24586|  110508|\n",
      "|        IA|  9141|  43230|  75166|   66424|  610814|\n",
      "|        ID|  6705|  13985|   7822|   48142|  370314|\n",
      "|        IL| 35097| 374589|1130574| 1215659| 2620068|\n",
      "|        IN| 16532|  77906| 461089|  177784| 1329286|\n",
      "|        KS| 24204|  68689| 141075|  165678|  927169|\n",
      "|        KY|  7772|  32667| 202749|   50478|  705790|\n",
      "|        LA|  8263|  38739| 602377|   87133|  654578|\n",
      "|        MA| 17060| 218113| 378624|  434271| 1272935|\n",
      "+----------+------+-------+-------+--------+--------+\n",
      "only showing top 20 rows\n",
      "\n"
     ]
    }
   ],
   "source": [
    "pivot_demographics_df.show()"
   ]
  },
  {
   "cell_type": "code",
   "execution_count": 11,
   "metadata": {},
   "outputs": [],
   "source": [
    "state_list_demographics = []\n",
    "for i in range(pivot_demographics_df.select(\"state_code\").dropDuplicates().count()):\n",
    "    state_list_demographics.append(str(pivot_demographics_df.select(\"state_code\").dropDuplicates().collect()[i][\"state_code\"]))"
   ]
  },
  {
   "cell_type": "code",
   "execution_count": 17,
   "metadata": {},
   "outputs": [
    {
     "data": {
      "text/plain": [
       "49"
      ]
     },
     "execution_count": 17,
     "metadata": {},
     "output_type": "execute_result"
    }
   ],
   "source": [
    "len(state_list_demographics)"
   ]
  },
  {
   "cell_type": "code",
   "execution_count": 12,
   "metadata": {},
   "outputs": [],
   "source": [
    "immigration_df_filtered = immigration_df.filter(F.col(\"i94addr\").isin(state_list_demographics))"
   ]
  },
  {
   "cell_type": "code",
   "execution_count": 27,
   "metadata": {},
   "outputs": [
    {
     "name": "stdout",
     "output_type": "stream",
     "text": [
      "+-----+-----+------+------+------+-------+-------+-------+-------+-------+------+-------+-----+------+-------+-----+--------+\n",
      "|cicid|i94yr|i94mon|i94cit|i94res|i94port|arrdate|i94mode|i94addr|depdate|i94bir|i94visa|count|gender|airline|fltno|visatype|\n",
      "+-----+-----+------+------+------+-------+-------+-------+-------+-------+------+-------+-----+------+-------+-----+--------+\n",
      "| 1508| 2016|     4|   104|   104|    NYC|20545.0|      1|     NY|20552.0|    16|      2|    1|     F|     LX|00016|      WT|\n",
      "| 1669| 2016|     4|   104|   104|    NYC|20545.0|      1|     FL|20561.0|    57|      2|    1|     M|     AA|00039|      WT|\n",
      "| 2025| 2016|     4|   104|   104|    NYC|20545.0|      1|     NY|20549.0|    51|      2|    1|  null|     SN|01401|      WT|\n",
      "| 2048| 2016|     4|   104|   104|    MIA|20545.0|      1|     FL|20554.0|     3|      2|    1|  null|     UX|00097|      WT|\n",
      "| 2294| 2016|     4|   107|   107|    CHI|20545.0|      1|     IL|20575.0|    54|      2|    1|     F|     LO|    3|      B2|\n",
      "| 2816| 2016|     4|   107|   107|    TAM|20545.0|      1|     FL|20572.0|    79|      2|    1|     F|     WK|00004|      B2|\n",
      "| 2872| 2016|     4|   108|   108|    BOS|20545.0|      1|     MA|20554.0|    51|      1|    1|     F|     SK|00927|      WB|\n",
      "| 2993| 2016|     4|   108|   108|    NEW|20545.0|      1|     NY|20552.0|    50|      2|    1|     F|     SK|00909|      WT|\n",
      "| 3539| 2016|     4|   108|   108|    SAJ|20545.0|      1|     PR|20552.0|    72|      2|    1|     M|     DY|07125|      WT|\n",
      "| 3776| 2016|     4|   109|   109|    BOS|20545.0|      1|     MA|20569.0|    73|      2|    1|     F|     LH|00422|      WT|\n",
      "| 3801| 2016|     4|   109|   109|    LOS|20545.0|      1|     CA|20572.0|    36|      2|    1|  null|     AA|00109|      WT|\n",
      "| 4483| 2016|     4|   111|   111|    ATL|20545.0|      1|     GA|20556.0|    45|      2|    1|     F|     AF|00688|      WT|\n",
      "| 4927| 2016|     4|   111|   111|    DAL|20545.0|      1|     TX|20558.0|    64|      2|    1|     F|     LH|00438|      WT|\n",
      "| 4961| 2016|     4|   111|   111|    DET|20545.0|      1|     IL|20552.0|    61|      2|    1|  null|     AF|00378|      WT|\n",
      "| 5166| 2016|     4|   111|   111|    NEW|20545.0|      1|     NY|20549.0|    53|      2|    1|     F|     LH|00402|      WT|\n",
      "| 5269| 2016|     4|   111|   111|    NEW|20545.0|      1|     NY|20551.0|    44|      2|    1|     F|     UA|00056|      WT|\n",
      "| 5904| 2016|     4|   111|   111|    NYC|20545.0|      1|     FL|20555.0|    12|      2|    1|  null|     AF|00006|      WT|\n",
      "| 5915| 2016|     4|   111|   111|    NYC|20545.0|      1|     MA|   null|    56|      2|    1|     F|     DL|00405|      WT|\n",
      "| 5919| 2016|     4|   111|   111|    NYC|20545.0|      1|     MA|20559.0|    52|      2|    1|     F|     AA|00121|      WT|\n",
      "| 6040| 2016|     4|   111|   111|    NYC|20545.0|      1|     NY|20552.0|    29|      2|    1|     M|     AF|00010|      WT|\n",
      "+-----+-----+------+------+------+-------+-------+-------+-------+-------+------+-------+-----+------+-------+-----+--------+\n",
      "only showing top 20 rows\n",
      "\n"
     ]
    }
   ],
   "source": [
    "immigration_df_filtered.show()"
   ]
  },
  {
   "cell_type": "code",
   "execution_count": 28,
   "metadata": {},
   "outputs": [
    {
     "data": {
      "text/plain": [
       "2820069"
      ]
     },
     "execution_count": 28,
     "metadata": {},
     "output_type": "execute_result"
    }
   ],
   "source": [
    "immigration_df_filtered.count()"
   ]
  },
  {
   "cell_type": "markdown",
   "metadata": {},
   "source": [
    "### Extracting fact table from spark dataframes"
   ]
  },
  {
   "cell_type": "code",
   "execution_count": 13,
   "metadata": {},
   "outputs": [],
   "source": [
    "fact_source_immigration_df = immigration_df_filtered.groupBy(\"i94addr\").agg(F.sum(immigration_df_filtered[\"count\"]).alias(\"immigration_count\"))"
   ]
  },
  {
   "cell_type": "code",
   "execution_count": 30,
   "metadata": {},
   "outputs": [
    {
     "name": "stdout",
     "output_type": "stream",
     "text": [
      "+-------+-----------------+\n",
      "|i94addr|immigration_count|\n",
      "+-------+-----------------+\n",
      "|     SC|             9811|\n",
      "|     AZ|            20218|\n",
      "|     LA|            22655|\n",
      "|     MN|            11194|\n",
      "|     NJ|            76531|\n",
      "|     DC|            28228|\n",
      "|     OR|            12574|\n",
      "|     VA|            31399|\n",
      "|     RI|             3289|\n",
      "|     KY|             5790|\n",
      "|     NH|             2817|\n",
      "|     MI|            32101|\n",
      "|     NV|           114609|\n",
      "|     WI|             7860|\n",
      "|     ID|             1752|\n",
      "|     CA|           470386|\n",
      "|     CT|            13991|\n",
      "|     NE|            26574|\n",
      "|     MT|             1339|\n",
      "|     NC|            23375|\n",
      "+-------+-----------------+\n",
      "only showing top 20 rows\n",
      "\n"
     ]
    }
   ],
   "source": [
    "fact_source_immigration_df.show()"
   ]
  },
  {
   "cell_type": "code",
   "execution_count": 31,
   "metadata": {},
   "outputs": [
    {
     "data": {
      "text/plain": [
       "49"
      ]
     },
     "execution_count": 31,
     "metadata": {},
     "output_type": "execute_result"
    }
   ],
   "source": [
    "fact_source_immigration_df.count()"
   ]
  },
  {
   "cell_type": "code",
   "execution_count": 14,
   "metadata": {},
   "outputs": [],
   "source": [
    "fact_source_demographics_df = pivot_demographics_df"
   ]
  },
  {
   "cell_type": "code",
   "execution_count": 33,
   "metadata": {},
   "outputs": [
    {
     "name": "stdout",
     "output_type": "stream",
     "text": [
      "+----------+------+-------+-------+--------+--------+\n",
      "|state_code|indian|  asian|  black|hispanic|   white|\n",
      "+----------+------+-------+-------+--------+--------+\n",
      "|        AK| 36339|  36825|  23107|   27261|  212696|\n",
      "|        AL|  8084|  28769| 521068|   39313|  498920|\n",
      "|        AR|  9381|  22062| 149608|   77813|  384733|\n",
      "|        AZ|129708| 229183| 296222| 1508157| 3591611|\n",
      "|        CA|401386|4543730|2047009| 9856464|14905129|\n",
      "|        CO| 62613| 148790| 208043|  703722| 2463916|\n",
      "|        CT| 10729|  48311| 231822|  309992|  505674|\n",
      "|        DC|  6130|  35072| 328786|   71129|  285402|\n",
      "|        DE|   414|   1193|  44182|    5516|   23743|\n",
      "|        FL| 46759| 264933|1652619| 1942022| 4758144|\n",
      "|        GA| 15746|  94136| 779361|  114366|  830002|\n",
      "|        HI|  5592| 240978|  11781|   24586|  110508|\n",
      "|        IA|  9141|  43230|  75166|   66424|  610814|\n",
      "|        ID|  6705|  13985|   7822|   48142|  370314|\n",
      "|        IL| 35097| 374589|1130574| 1215659| 2620068|\n",
      "|        IN| 16532|  77906| 461089|  177784| 1329286|\n",
      "|        KS| 24204|  68689| 141075|  165678|  927169|\n",
      "|        KY|  7772|  32667| 202749|   50478|  705790|\n",
      "|        LA|  8263|  38739| 602377|   87133|  654578|\n",
      "|        MA| 17060| 218113| 378624|  434271| 1272935|\n",
      "+----------+------+-------+-------+--------+--------+\n",
      "only showing top 20 rows\n",
      "\n"
     ]
    }
   ],
   "source": [
    "fact_source_demographics_df.show()"
   ]
  },
  {
   "cell_type": "code",
   "execution_count": 15,
   "metadata": {},
   "outputs": [],
   "source": [
    "fact_table = fact_source_immigration_df.join(fact_source_demographics_df, fact_source_immigration_df.i94addr == fact_source_demographics_df.state_code).withColumn(\"fact_id\", F.monotonically_increasing_id())"
   ]
  },
  {
   "cell_type": "code",
   "execution_count": 31,
   "metadata": {},
   "outputs": [
    {
     "name": "stdout",
     "output_type": "stream",
     "text": [
      "+-------+-----------------+----------+------+-------+-------+--------+--------+------------+\n",
      "|i94addr|immigration_count|state_code|indian|  asian|  black|hispanic|   white|     fact_id|\n",
      "+-------+-----------------+----------+------+-------+-------+--------+--------+------------+\n",
      "|     SC|             9811|        SC|  3705|  13355| 175064|   29863|  343764| 34359738368|\n",
      "|     AZ|            20218|        AZ|129708| 229183| 296222| 1508157| 3591611| 34359738369|\n",
      "|     LA|            22655|        LA|  8263|  38739| 602377|   87133|  654578| 77309411328|\n",
      "|     MN|            11194|        MN| 25242| 151544| 216731|  103229| 1050239| 85899345920|\n",
      "|     NJ|            76531|        NJ| 11350| 116844| 452202|  600437|  615083|137438953472|\n",
      "|     DC|            28228|        DC|  6130|  35072| 328786|   71129|  285402|180388626432|\n",
      "|     OR|            12574|        OR| 38597| 117279|  72150|  201498| 1235819|257698037760|\n",
      "|     VA|            31399|        VA| 26160| 167784| 771569|  216760| 1428158|360777252864|\n",
      "|     RI|             3289|        RI|  6369|  24245|  55556|  109226|  287304|403726925824|\n",
      "|     KY|             5790|        KY|  7772|  32667| 202749|   50478|  705790|420906795008|\n",
      "|     NH|             2817|        NH|  1213|  13989|  11043|   22473|  174085|438086664192|\n",
      "|     MI|            32101|        MI| 27962| 125172| 853877|  149932| 1214721|463856467968|\n",
      "|     NV|           114609|        NV| 35390| 254593| 269791|  689798| 1531724|472446402560|\n",
      "|     WI|             7860|        WI| 24720|  73982| 316896|  202117|  974433|506806140928|\n",
      "|     ID|             1752|        ID|  6705|  13985|   7822|   48142|  370314|515396075520|\n",
      "|     CA|           470386|        CA|401386|4543730|2047009| 9856464|14905129|558345748480|\n",
      "|     CT|            13991|        CT| 10729|  48311| 231822|  309992|  505674|566935683072|\n",
      "|     NE|            26574|        NE| 10599|  34243|  80668|   83812|  600094|566935683073|\n",
      "|     MT|             1339|        MT|  9684|   4165|   3349|   10000|  169026|575525617664|\n",
      "|     NC|            23375|        NC| 35209| 178740|1029446|  354409| 1790136|601295421440|\n",
      "+-------+-----------------+----------+------+-------+-------+--------+--------+------------+\n",
      "only showing top 20 rows\n",
      "\n"
     ]
    }
   ],
   "source": [
    "fact_table.show()"
   ]
  },
  {
   "cell_type": "code",
   "execution_count": 16,
   "metadata": {},
   "outputs": [],
   "source": [
    "fact_table = fact_table.select(\"fact_id\",\"state_code\",\"immigration_count\",\"white\",\"asian\",\"black\",\"hispanic\",\"indian\")"
   ]
  },
  {
   "cell_type": "code",
   "execution_count": 42,
   "metadata": {},
   "outputs": [
    {
     "name": "stdout",
     "output_type": "stream",
     "text": [
      "+------------+----------+-----------------+--------+-------+-------+--------+------+\n",
      "|     fact_id|state_code|immigration_count|   white|  asian|  black|hispanic|indian|\n",
      "+------------+----------+-----------------+--------+-------+-------+--------+------+\n",
      "| 34359738368|        SC|             9811|  343764|  13355| 175064|   29863|  3705|\n",
      "| 34359738369|        AZ|            20218| 3591611| 229183| 296222| 1508157|129708|\n",
      "| 77309411328|        LA|            22655|  654578|  38739| 602377|   87133|  8263|\n",
      "| 85899345920|        MN|            11194| 1050239| 151544| 216731|  103229| 25242|\n",
      "|137438953472|        NJ|            76531|  615083| 116844| 452202|  600437| 11350|\n",
      "|180388626432|        DC|            28228|  285402|  35072| 328786|   71129|  6130|\n",
      "|257698037760|        OR|            12574| 1235819| 117279|  72150|  201498| 38597|\n",
      "|360777252864|        VA|            31399| 1428158| 167784| 771569|  216760| 26160|\n",
      "|403726925824|        RI|             3289|  287304|  24245|  55556|  109226|  6369|\n",
      "|420906795008|        KY|             5790|  705790|  32667| 202749|   50478|  7772|\n",
      "|438086664192|        NH|             2817|  174085|  13989|  11043|   22473|  1213|\n",
      "|463856467968|        MI|            32101| 1214721| 125172| 853877|  149932| 27962|\n",
      "|472446402560|        NV|           114609| 1531724| 254593| 269791|  689798| 35390|\n",
      "|506806140928|        WI|             7860|  974433|  73982| 316896|  202117| 24720|\n",
      "|515396075520|        ID|             1752|  370314|  13985|   7822|   48142|  6705|\n",
      "|558345748480|        CA|           470386|14905129|4543730|2047009| 9856464|401386|\n",
      "|566935683072|        CT|            13991|  505674|  48311| 231822|  309992| 10729|\n",
      "|566935683073|        NE|            26574|  600094|  34243|  80668|   83812| 10599|\n",
      "|575525617664|        MT|             1339|  169026|   4165|   3349|   10000|  9684|\n",
      "|601295421440|        NC|            23375| 1790136| 178740|1029446|  354409| 35209|\n",
      "+------------+----------+-----------------+--------+-------+-------+--------+------+\n",
      "only showing top 20 rows\n",
      "\n"
     ]
    }
   ],
   "source": [
    "fact_table.show()"
   ]
  },
  {
   "cell_type": "code",
   "execution_count": 43,
   "metadata": {},
   "outputs": [
    {
     "name": "stdout",
     "output_type": "stream",
     "text": [
      "root\n",
      " |-- fact_id: long (nullable = false)\n",
      " |-- state_code: string (nullable = true)\n",
      " |-- immigration_count: long (nullable = true)\n",
      " |-- white: long (nullable = true)\n",
      " |-- asian: long (nullable = true)\n",
      " |-- black: long (nullable = true)\n",
      " |-- hispanic: long (nullable = true)\n",
      " |-- indian: long (nullable = true)\n",
      "\n"
     ]
    }
   ],
   "source": [
    "fact_table.printSchema()"
   ]
  },
  {
   "cell_type": "code",
   "execution_count": 17,
   "metadata": {},
   "outputs": [],
   "source": [
    "fact_table = fact_table \\\n",
    "        .withColumn(\"immigration_count\", fact_table[\"immigration_count\"].cast(IntegerType())) \\\n",
    "        .withColumn(\"white\", fact_table[\"white\"].cast(IntegerType())) \\\n",
    "        .withColumn(\"asian\", fact_table[\"asian\"].cast(IntegerType())) \\\n",
    "        .withColumn(\"black\", fact_table[\"black\"].cast(IntegerType())) \\\n",
    "        .withColumn(\"hispanic\", fact_table[\"hispanic\"].cast(IntegerType())) \\\n",
    "        .withColumn(\"indian\", fact_table[\"indian\"].cast(IntegerType()))"
   ]
  },
  {
   "cell_type": "code",
   "execution_count": 60,
   "metadata": {},
   "outputs": [
    {
     "name": "stdout",
     "output_type": "stream",
     "text": [
      "root\n",
      " |-- fact_id: long (nullable = false)\n",
      " |-- state_code: string (nullable = true)\n",
      " |-- immigration_count: integer (nullable = true)\n",
      " |-- white: integer (nullable = true)\n",
      " |-- asian: integer (nullable = true)\n",
      " |-- black: integer (nullable = true)\n",
      " |-- hispanic: integer (nullable = true)\n",
      " |-- indian: integer (nullable = true)\n",
      "\n"
     ]
    }
   ],
   "source": [
    "fact_table.printSchema()"
   ]
  },
  {
   "cell_type": "code",
   "execution_count": 25,
   "metadata": {},
   "outputs": [
    {
     "name": "stdout",
     "output_type": "stream",
     "text": [
      "+------------+----------+-----------------+--------+-------+-------+--------+------+\n",
      "|     fact_id|state_code|immigration_count|   white|  asian|  black|hispanic|indian|\n",
      "+------------+----------+-----------------+--------+-------+-------+--------+------+\n",
      "| 34359738368|        SC|             9811|  343764|  13355| 175064|   29863|  3705|\n",
      "| 34359738369|        AZ|            20218| 3591611| 229183| 296222| 1508157|129708|\n",
      "| 77309411328|        LA|            22655|  654578|  38739| 602377|   87133|  8263|\n",
      "| 85899345920|        MN|            11194| 1050239| 151544| 216731|  103229| 25242|\n",
      "|137438953472|        NJ|            76531|  615083| 116844| 452202|  600437| 11350|\n",
      "|180388626432|        DC|            28228|  285402|  35072| 328786|   71129|  6130|\n",
      "|257698037760|        OR|            12574| 1235819| 117279|  72150|  201498| 38597|\n",
      "|360777252864|        VA|            31399| 1428158| 167784| 771569|  216760| 26160|\n",
      "|403726925824|        RI|             3289|  287304|  24245|  55556|  109226|  6369|\n",
      "|420906795008|        KY|             5790|  705790|  32667| 202749|   50478|  7772|\n",
      "|438086664192|        NH|             2817|  174085|  13989|  11043|   22473|  1213|\n",
      "|463856467968|        MI|            32101| 1214721| 125172| 853877|  149932| 27962|\n",
      "|472446402560|        NV|           114609| 1531724| 254593| 269791|  689798| 35390|\n",
      "|506806140928|        WI|             7860|  974433|  73982| 316896|  202117| 24720|\n",
      "|515396075520|        ID|             1752|  370314|  13985|   7822|   48142|  6705|\n",
      "|558345748480|        CA|           470386|14905129|4543730|2047009| 9856464|401386|\n",
      "|566935683072|        CT|            13991|  505674|  48311| 231822|  309992| 10729|\n",
      "|566935683073|        NE|            26574|  600094|  34243|  80668|   83812| 10599|\n",
      "|575525617664|        MT|             1339|  169026|   4165|   3349|   10000|  9684|\n",
      "|601295421440|        NC|            23375| 1790136| 178740|1029446|  354409| 35209|\n",
      "+------------+----------+-----------------+--------+-------+-------+--------+------+\n",
      "only showing top 20 rows\n",
      "\n"
     ]
    }
   ],
   "source": [
    "fact_table.show()"
   ]
  },
  {
   "cell_type": "markdown",
   "metadata": {},
   "source": [
    "### Extracting dimemsion tables from spark dataframes"
   ]
  },
  {
   "cell_type": "markdown",
   "metadata": {},
   "source": [
    "#### dim_state_table"
   ]
  },
  {
   "cell_type": "code",
   "execution_count": 39,
   "metadata": {},
   "outputs": [
    {
     "name": "stdout",
     "output_type": "stream",
     "text": [
      "+--------------------+------------+----------+---------------+-----------------+----------------+---------------+------------+------------------+----------+--------------------+------+\n",
      "|                city|       state|median_age|male_population|female_population|total_population|num_of_veterans|foreign_born|avg_household_size|state_code|                race| count|\n",
      "+--------------------+------------+----------+---------------+-----------------+----------------+---------------+------------+------------------+----------+--------------------+------+\n",
      "|             Lynwood|  California|      29.4|          35634|            36371|           72005|            776|       28061|              4.43|        CA|Black or African-...|  5346|\n",
      "|           Hollywood|     Florida|      41.4|          75358|            74363|          149721|           6056|       55158|              2.65|        FL|               White|107916|\n",
      "|             Fremont|  California|      38.3|         114383|           117808|          232191|           4629|      109427|              3.12|        CA|  Hispanic or Latino| 29594|\n",
      "|          Atascocita|       Texas|      32.8|          37424|            40816|           78240|           4416|        8657|              3.03|        TX|Black or African-...| 21491|\n",
      "|             Brandon|     Florida|      36.1|          55679|            58289|          113968|           9417|       16390|              2.64|        FL|American Indian a...|  1921|\n",
      "|           Rockville|    Maryland|      38.1|          31205|            35793|           66998|           1990|       25047|               2.6|        MD|Black or African-...|  7533|\n",
      "|          Rapid City|South Dakota|      39.5|          36122|            37446|           73568|           7429|        2375|              2.31|        SD|Black or African-...|  2217|\n",
      "|              Conroe|       Texas|      31.5|          34907|            33685|           68592|           4871|       13839|              2.65|        TX|  Hispanic or Latino| 23863|\n",
      "|       Oklahoma City|    Oklahoma|      34.1|         309227|           322036|          631263|          41843|       80165|              2.58|        OK|Black or African-...|111673|\n",
      "|             Hayward|  California|      34.3|          78152|            80148|          158300|           4385|       60970|              3.32|        CA|               White| 74800|\n",
      "|            Franklin|   Tennessee|      38.3|          34991|            37644|           72635|           3303|        6876|              2.73|        TN|               White| 61459|\n",
      "|           Sunnyvale|  California|      35.7|          79480|            72280|          151760|           3900|       71441|              2.74|        CA|American Indian a...|  1179|\n",
      "|             Decatur|    Illinois|      40.4|          34646|            38210|           72856|           5291|        1224|              2.23|        IL|  Hispanic or Latino|  1709|\n",
      "|            Syracuse|    New York|      30.3|          69462|            74690|          144152|           5845|       17733|              2.39|        NY|               Asian|  9386|\n",
      "|          Des Moines|        Iowa|      34.5|         103726|           106591|          210317|          11780|       23857|              2.41|        IA|Black or African-...| 26353|\n",
      "|              Olathe|      Kansas|      33.0|          65046|            69270|          134316|           6042|       11913|              2.97|        KS|               Asian|  6288|\n",
      "|               Eagan|   Minnesota|      36.8|          31587|            34701|           66288|           2699|        8642|              2.49|        MN|               Asian|  6923|\n",
      "|           Pawtucket|Rhode Island|      39.2|          36072|            35511|           71583|           3173|       17884|              2.41|        RI|  Hispanic or Latino| 16117|\n",
      "|North Richland Hills|       Texas|      39.9|          35257|            33948|           69205|           5175|        7854|              2.64|        TX|American Indian a...|  1127|\n",
      "|            Alhambra|  California|      41.0|          42184|            43388|           85572|           1673|       44441|              2.89|        CA|               Asian| 44067|\n",
      "+--------------------+------------+----------+---------------+-----------------+----------------+---------------+------------+------------------+----------+--------------------+------+\n",
      "only showing top 20 rows\n",
      "\n"
     ]
    }
   ],
   "source": [
    "demographics_df.show()"
   ]
  },
  {
   "cell_type": "code",
   "execution_count": 18,
   "metadata": {},
   "outputs": [],
   "source": [
    "dim_state_table = demographics_df.groupBy(\"state_code\",\"state\").agg(F.sum(demographics_df[\"foreign_born\"])).select(\"state_code\",\"state\")"
   ]
  },
  {
   "cell_type": "code",
   "execution_count": 55,
   "metadata": {},
   "outputs": [
    {
     "name": "stdout",
     "output_type": "stream",
     "text": [
      "+----------+--------------------+\n",
      "|state_code|               state|\n",
      "+----------+--------------------+\n",
      "|        MT|             Montana|\n",
      "|        NC|      North Carolina|\n",
      "|        MD|            Maryland|\n",
      "|        CO|            Colorado|\n",
      "|        CT|         Connecticut|\n",
      "|        IL|            Illinois|\n",
      "|        NJ|          New Jersey|\n",
      "|        DE|            Delaware|\n",
      "|        DC|District of Columbia|\n",
      "|        TN|           Tennessee|\n",
      "|        LA|           Louisiana|\n",
      "|        AR|            Arkansas|\n",
      "|        AK|              Alaska|\n",
      "|        CA|          California|\n",
      "|        NM|          New Mexico|\n",
      "|        UT|                Utah|\n",
      "|        MI|            Michigan|\n",
      "|        NY|            New York|\n",
      "|        NH|       New Hampshire|\n",
      "|        WA|          Washington|\n",
      "+----------+--------------------+\n",
      "only showing top 20 rows\n",
      "\n"
     ]
    }
   ],
   "source": [
    "dim_state_table.show()"
   ]
  },
  {
   "cell_type": "code",
   "execution_count": 42,
   "metadata": {},
   "outputs": [
    {
     "name": "stdout",
     "output_type": "stream",
     "text": [
      "root\n",
      " |-- state_code: string (nullable = true)\n",
      " |-- state: string (nullable = true)\n",
      "\n"
     ]
    }
   ],
   "source": [
    "dim_state_table.printSchema()"
   ]
  },
  {
   "cell_type": "markdown",
   "metadata": {},
   "source": [
    "#### dim_visa_table"
   ]
  },
  {
   "cell_type": "code",
   "execution_count": 43,
   "metadata": {},
   "outputs": [
    {
     "name": "stdout",
     "output_type": "stream",
     "text": [
      "+-----+-----+------+------+------+-------+-------+-------+-------+-------+------+-------+-----+------+-------+-----+--------+\n",
      "|cicid|i94yr|i94mon|i94cit|i94res|i94port|arrdate|i94mode|i94addr|depdate|i94bir|i94visa|count|gender|airline|fltno|visatype|\n",
      "+-----+-----+------+------+------+-------+-------+-------+-------+-------+------+-------+-----+------+-------+-----+--------+\n",
      "| 1508| 2016|     4|   104|   104|    NYC|20545.0|      1|     NY|20552.0|    16|      2|    1|     F|     LX|00016|      WT|\n",
      "| 1669| 2016|     4|   104|   104|    NYC|20545.0|      1|     FL|20561.0|    57|      2|    1|     M|     AA|00039|      WT|\n",
      "| 2025| 2016|     4|   104|   104|    NYC|20545.0|      1|     NY|20549.0|    51|      2|    1|  null|     SN|01401|      WT|\n",
      "| 2048| 2016|     4|   104|   104|    MIA|20545.0|      1|     FL|20554.0|     3|      2|    1|  null|     UX|00097|      WT|\n",
      "| 2294| 2016|     4|   107|   107|    CHI|20545.0|      1|     IL|20575.0|    54|      2|    1|     F|     LO|    3|      B2|\n",
      "| 2816| 2016|     4|   107|   107|    TAM|20545.0|      1|     FL|20572.0|    79|      2|    1|     F|     WK|00004|      B2|\n",
      "| 2872| 2016|     4|   108|   108|    BOS|20545.0|      1|     MA|20554.0|    51|      1|    1|     F|     SK|00927|      WB|\n",
      "| 2993| 2016|     4|   108|   108|    NEW|20545.0|      1|     NY|20552.0|    50|      2|    1|     F|     SK|00909|      WT|\n",
      "| 3539| 2016|     4|   108|   108|    SAJ|20545.0|      1|     PR|20552.0|    72|      2|    1|     M|     DY|07125|      WT|\n",
      "| 3776| 2016|     4|   109|   109|    BOS|20545.0|      1|     MA|20569.0|    73|      2|    1|     F|     LH|00422|      WT|\n",
      "| 3801| 2016|     4|   109|   109|    LOS|20545.0|      1|     CA|20572.0|    36|      2|    1|  null|     AA|00109|      WT|\n",
      "| 4483| 2016|     4|   111|   111|    ATL|20545.0|      1|     GA|20556.0|    45|      2|    1|     F|     AF|00688|      WT|\n",
      "| 4927| 2016|     4|   111|   111|    DAL|20545.0|      1|     TX|20558.0|    64|      2|    1|     F|     LH|00438|      WT|\n",
      "| 4961| 2016|     4|   111|   111|    DET|20545.0|      1|     IL|20552.0|    61|      2|    1|  null|     AF|00378|      WT|\n",
      "| 5166| 2016|     4|   111|   111|    NEW|20545.0|      1|     NY|20549.0|    53|      2|    1|     F|     LH|00402|      WT|\n",
      "| 5269| 2016|     4|   111|   111|    NEW|20545.0|      1|     NY|20551.0|    44|      2|    1|     F|     UA|00056|      WT|\n",
      "| 5904| 2016|     4|   111|   111|    NYC|20545.0|      1|     FL|20555.0|    12|      2|    1|  null|     AF|00006|      WT|\n",
      "| 5915| 2016|     4|   111|   111|    NYC|20545.0|      1|     MA|   null|    56|      2|    1|     F|     DL|00405|      WT|\n",
      "| 5919| 2016|     4|   111|   111|    NYC|20545.0|      1|     MA|20559.0|    52|      2|    1|     F|     AA|00121|      WT|\n",
      "| 6040| 2016|     4|   111|   111|    NYC|20545.0|      1|     NY|20552.0|    29|      2|    1|     M|     AF|00010|      WT|\n",
      "+-----+-----+------+------+------+-------+-------+-------+-------+-------+------+-------+-----+------+-------+-----+--------+\n",
      "only showing top 20 rows\n",
      "\n"
     ]
    }
   ],
   "source": [
    "immigration_df_filtered.show()"
   ]
  },
  {
   "cell_type": "code",
   "execution_count": 19,
   "metadata": {},
   "outputs": [],
   "source": [
    "pivot_immigration_visa_df = immigration_df_filtered.groupBy(\"i94addr\").pivot(\"visatype\").sum(\"count\")"
   ]
  },
  {
   "cell_type": "code",
   "execution_count": 32,
   "metadata": {},
   "outputs": [
    {
     "name": "stdout",
     "output_type": "stream",
     "text": [
      "+-------+-----+------+----+----+----+----+----+----+----+---+----+----+----+----+-----+------+\n",
      "|i94addr|   B1|    B2|  CP| CPL|  E1|  E2|  F1|  F2| GMT|  I|  I1|  M1|  M2| SBP|   WB|    WT|\n",
      "+-------+-----+------+----+----+----+----+----+----+----+---+----+----+----+----+-----+------+\n",
      "|     AZ| 2013|  6125|  16|   1|  12| 115| 209|  21|   5| 21|   3| 159|   5|null| 3432|  8081|\n",
      "|     SC| 1150|  2134|null|null|  30| 304|  96|   9|null| 15|null|null|null|null| 2208|  3865|\n",
      "|     LA| 2642|  6597|  44|null|  10|  76| 179|  11|null| 23|   3|   2|null|null| 4203|  8865|\n",
      "|     MN| 1972|  3729|null|null|   7|  48| 221|  12|null|  9|null|null|null|null| 2800|  2396|\n",
      "|     NJ| 4898| 39483|   9|null| 199| 555| 740|  70|null| 77|   5|   8|null|   1| 6782| 23704|\n",
      "|     DC| 4102|  7390|   1|null|  17|  51| 325|  17|null|276|  17|   3|   1|null| 6236|  9792|\n",
      "|     OR| 1556|  4264|   6|null|  13| 128| 344|  24|null|  6|null|  25|null|null| 2238|  3970|\n",
      "|     VA| 2811| 15184|  10|null|  49| 187| 575|  80|   2| 49|   6|null|null|null| 3906|  8540|\n",
      "|     RI|  314|  1195|null|null|   3|  13| 440|   5|null|  2|null|null|null|null|  419|   898|\n",
      "|     KY|  828|  1985|null|null|  18| 280|  77|   9|   1|  8|null|   1|null|null| 1256|  1327|\n",
      "|     NH|  260|   795|null|null|   5|  16| 103|   9|null|  3|null|null|null|null|  617|  1009|\n",
      "|     MI| 5386| 10445|   4|null| 100|1049| 650|  96|   1| 16|   2|   5|null|null| 8124|  6223|\n",
      "|     NV| 8610| 32203|   3|null|  15| 117|  65|   5|   1|123|   7|   1|null|null|13139| 60320|\n",
      "|     WI| 1359|  2390|null|null|   4|  64| 303|  19|null|  2|null|   1|null|null| 2143|  1575|\n",
      "|     ID|  195|   475|null|null|null|  13| 120|   5|null|  1|null|null|null|null|  452|   491|\n",
      "|     CA|36187|172977| 150|null| 696|2996|9349| 482|   7|530|  28| 221|  14|   1|50901|195847|\n",
      "|     NE| 1418|  7877|   3|null|  21|  98| 202|  15|   1| 26|   7|   8|null|null| 2870| 14028|\n",
      "|     CT| 1068|  6252|   1|null|  35| 123| 376|  40|null|  7|null|   2|null|null| 2061|  4026|\n",
      "|     MT|   98|   333|   1|null|null|  11|  34|null|null|  3|null|   2|null|null|  157|   700|\n",
      "|     NC| 3614|  7613|   2|null|  66| 316| 300|  43|null| 23|   1|null|null|null| 5632|  5765|\n",
      "+-------+-----+------+----+----+----+----+----+----+----+---+----+----+----+----+-----+------+\n",
      "only showing top 20 rows\n",
      "\n"
     ]
    }
   ],
   "source": [
    "pivot_immigration_visa_df.show()"
   ]
  },
  {
   "cell_type": "code",
   "execution_count": 20,
   "metadata": {},
   "outputs": [],
   "source": [
    "dim_visa_table = pivot_immigration_visa_df"
   ]
  },
  {
   "cell_type": "code",
   "execution_count": 21,
   "metadata": {},
   "outputs": [],
   "source": [
    "dim_visa_table = dim_visa_table \\\n",
    "        .withColumnRenamed(\"i94addr\", \"state_code\") \\\n",
    "        .withColumn(\"B1\", dim_visa_table[\"B1\"].cast(IntegerType())) \\\n",
    "        .withColumn(\"B2\", dim_visa_table[\"B2\"].cast(IntegerType())) \\\n",
    "        .withColumn(\"CP\", dim_visa_table[\"CP\"].cast(IntegerType())) \\\n",
    "        .withColumn(\"CPL\", dim_visa_table[\"CPL\"].cast(IntegerType())) \\\n",
    "        .withColumn(\"E1\", dim_visa_table[\"E1\"].cast(IntegerType())) \\\n",
    "        .withColumn(\"E2\", dim_visa_table[\"E2\"].cast(IntegerType())) \\\n",
    "        .withColumn(\"F1\", dim_visa_table[\"F1\"].cast(IntegerType())) \\\n",
    "        .withColumn(\"F2\", dim_visa_table[\"F2\"].cast(IntegerType())) \\\n",
    "        .withColumn(\"GMT\", dim_visa_table[\"GMT\"].cast(IntegerType())) \\\n",
    "        .withColumn(\"I\", dim_visa_table[\"I\"].cast(IntegerType())) \\\n",
    "        .withColumn(\"I1\", dim_visa_table[\"I1\"].cast(IntegerType())) \\\n",
    "        .withColumn(\"M1\", dim_visa_table[\"M1\"].cast(IntegerType())) \\\n",
    "        .withColumn(\"M2\", dim_visa_table[\"M2\"].cast(IntegerType())) \\\n",
    "        .withColumn(\"SBP\", dim_visa_table[\"SBP\"].cast(IntegerType())) \\\n",
    "        .withColumn(\"WB\", dim_visa_table[\"WB\"].cast(IntegerType())) \\\n",
    "        .withColumn(\"WT\", dim_visa_table[\"WT\"].cast(IntegerType()))"
   ]
  },
  {
   "cell_type": "code",
   "execution_count": 37,
   "metadata": {},
   "outputs": [
    {
     "name": "stdout",
     "output_type": "stream",
     "text": [
      "root\n",
      " |-- state_code: string (nullable = true)\n",
      " |-- B1: integer (nullable = true)\n",
      " |-- B2: integer (nullable = true)\n",
      " |-- CP: integer (nullable = true)\n",
      " |-- CPL: integer (nullable = true)\n",
      " |-- E1: integer (nullable = true)\n",
      " |-- E2: integer (nullable = true)\n",
      " |-- F1: integer (nullable = true)\n",
      " |-- F2: integer (nullable = true)\n",
      " |-- GMT: integer (nullable = true)\n",
      " |-- I: integer (nullable = true)\n",
      " |-- I1: integer (nullable = true)\n",
      " |-- M1: integer (nullable = true)\n",
      " |-- M2: integer (nullable = true)\n",
      " |-- SBP: integer (nullable = true)\n",
      " |-- WB: integer (nullable = true)\n",
      " |-- WT: integer (nullable = true)\n",
      "\n"
     ]
    }
   ],
   "source": [
    "dim_visa_table.printSchema()"
   ]
  },
  {
   "cell_type": "code",
   "execution_count": 58,
   "metadata": {},
   "outputs": [
    {
     "name": "stdout",
     "output_type": "stream",
     "text": [
      "+----------+-----+------+----+----+----+----+----+----+----+---+----+----+----+----+-----+------+\n",
      "|state_code|   B1|    B2|  CP| CPL|  E1|  E2|  F1|  F2| GMT|  I|  I1|  M1|  M2| SBP|   WB|    WT|\n",
      "+----------+-----+------+----+----+----+----+----+----+----+---+----+----+----+----+-----+------+\n",
      "|        AZ| 2013|  6125|  16|   1|  12| 115| 209|  21|   5| 21|   3| 159|   5|null| 3432|  8081|\n",
      "|        SC| 1150|  2134|null|null|  30| 304|  96|   9|null| 15|null|null|null|null| 2208|  3865|\n",
      "|        LA| 2642|  6597|  44|null|  10|  76| 179|  11|null| 23|   3|   2|null|null| 4203|  8865|\n",
      "|        MN| 1972|  3729|null|null|   7|  48| 221|  12|null|  9|null|null|null|null| 2800|  2396|\n",
      "|        NJ| 4898| 39483|   9|null| 199| 555| 740|  70|null| 77|   5|   8|null|   1| 6782| 23704|\n",
      "|        DC| 4102|  7390|   1|null|  17|  51| 325|  17|null|276|  17|   3|   1|null| 6236|  9792|\n",
      "|        OR| 1556|  4264|   6|null|  13| 128| 344|  24|null|  6|null|  25|null|null| 2238|  3970|\n",
      "|        VA| 2811| 15184|  10|null|  49| 187| 575|  80|   2| 49|   6|null|null|null| 3906|  8540|\n",
      "|        RI|  314|  1195|null|null|   3|  13| 440|   5|null|  2|null|null|null|null|  419|   898|\n",
      "|        KY|  828|  1985|null|null|  18| 280|  77|   9|   1|  8|null|   1|null|null| 1256|  1327|\n",
      "|        NH|  260|   795|null|null|   5|  16| 103|   9|null|  3|null|null|null|null|  617|  1009|\n",
      "|        MI| 5386| 10445|   4|null| 100|1049| 650|  96|   1| 16|   2|   5|null|null| 8124|  6223|\n",
      "|        NV| 8610| 32203|   3|null|  15| 117|  65|   5|   1|123|   7|   1|null|null|13139| 60320|\n",
      "|        WI| 1359|  2390|null|null|   4|  64| 303|  19|null|  2|null|   1|null|null| 2143|  1575|\n",
      "|        ID|  195|   475|null|null|null|  13| 120|   5|null|  1|null|null|null|null|  452|   491|\n",
      "|        CA|36187|172977| 150|null| 696|2996|9349| 482|   7|530|  28| 221|  14|   1|50901|195847|\n",
      "|        NE| 1418|  7877|   3|null|  21|  98| 202|  15|   1| 26|   7|   8|null|null| 2870| 14028|\n",
      "|        CT| 1068|  6252|   1|null|  35| 123| 376|  40|null|  7|null|   2|null|null| 2061|  4026|\n",
      "|        MT|   98|   333|   1|null|null|  11|  34|null|null|  3|null|   2|null|null|  157|   700|\n",
      "|        NC| 3614|  7613|   2|null|  66| 316| 300|  43|null| 23|   1|null|null|null| 5632|  5765|\n",
      "+----------+-----+------+----+----+----+----+----+----+----+---+----+----+----+----+-----+------+\n",
      "only showing top 20 rows\n",
      "\n"
     ]
    }
   ],
   "source": [
    "dim_visa_table.show()"
   ]
  },
  {
   "cell_type": "markdown",
   "metadata": {},
   "source": [
    "#### dim_foreign_table"
   ]
  },
  {
   "cell_type": "code",
   "execution_count": 51,
   "metadata": {},
   "outputs": [
    {
     "name": "stdout",
     "output_type": "stream",
     "text": [
      "+--------------------+------------+----------+---------------+-----------------+----------------+---------------+------------+------------------+----------+--------------------+------+\n",
      "|                city|       state|median_age|male_population|female_population|total_population|num_of_veterans|foreign_born|avg_household_size|state_code|                race| count|\n",
      "+--------------------+------------+----------+---------------+-----------------+----------------+---------------+------------+------------------+----------+--------------------+------+\n",
      "|             Lynwood|  California|      29.4|          35634|            36371|           72005|            776|       28061|              4.43|        CA|Black or African-...|  5346|\n",
      "|           Hollywood|     Florida|      41.4|          75358|            74363|          149721|           6056|       55158|              2.65|        FL|               White|107916|\n",
      "|             Fremont|  California|      38.3|         114383|           117808|          232191|           4629|      109427|              3.12|        CA|  Hispanic or Latino| 29594|\n",
      "|          Atascocita|       Texas|      32.8|          37424|            40816|           78240|           4416|        8657|              3.03|        TX|Black or African-...| 21491|\n",
      "|             Brandon|     Florida|      36.1|          55679|            58289|          113968|           9417|       16390|              2.64|        FL|American Indian a...|  1921|\n",
      "|           Rockville|    Maryland|      38.1|          31205|            35793|           66998|           1990|       25047|               2.6|        MD|Black or African-...|  7533|\n",
      "|          Rapid City|South Dakota|      39.5|          36122|            37446|           73568|           7429|        2375|              2.31|        SD|Black or African-...|  2217|\n",
      "|              Conroe|       Texas|      31.5|          34907|            33685|           68592|           4871|       13839|              2.65|        TX|  Hispanic or Latino| 23863|\n",
      "|       Oklahoma City|    Oklahoma|      34.1|         309227|           322036|          631263|          41843|       80165|              2.58|        OK|Black or African-...|111673|\n",
      "|             Hayward|  California|      34.3|          78152|            80148|          158300|           4385|       60970|              3.32|        CA|               White| 74800|\n",
      "|            Franklin|   Tennessee|      38.3|          34991|            37644|           72635|           3303|        6876|              2.73|        TN|               White| 61459|\n",
      "|           Sunnyvale|  California|      35.7|          79480|            72280|          151760|           3900|       71441|              2.74|        CA|American Indian a...|  1179|\n",
      "|             Decatur|    Illinois|      40.4|          34646|            38210|           72856|           5291|        1224|              2.23|        IL|  Hispanic or Latino|  1709|\n",
      "|            Syracuse|    New York|      30.3|          69462|            74690|          144152|           5845|       17733|              2.39|        NY|               Asian|  9386|\n",
      "|          Des Moines|        Iowa|      34.5|         103726|           106591|          210317|          11780|       23857|              2.41|        IA|Black or African-...| 26353|\n",
      "|              Olathe|      Kansas|      33.0|          65046|            69270|          134316|           6042|       11913|              2.97|        KS|               Asian|  6288|\n",
      "|               Eagan|   Minnesota|      36.8|          31587|            34701|           66288|           2699|        8642|              2.49|        MN|               Asian|  6923|\n",
      "|           Pawtucket|Rhode Island|      39.2|          36072|            35511|           71583|           3173|       17884|              2.41|        RI|  Hispanic or Latino| 16117|\n",
      "|North Richland Hills|       Texas|      39.9|          35257|            33948|           69205|           5175|        7854|              2.64|        TX|American Indian a...|  1127|\n",
      "|            Alhambra|  California|      41.0|          42184|            43388|           85572|           1673|       44441|              2.89|        CA|               Asian| 44067|\n",
      "+--------------------+------------+----------+---------------+-----------------+----------------+---------------+------------+------------------+----------+--------------------+------+\n",
      "only showing top 20 rows\n",
      "\n"
     ]
    }
   ],
   "source": [
    "demographics_df.show()"
   ]
  },
  {
   "cell_type": "code",
   "execution_count": 22,
   "metadata": {},
   "outputs": [],
   "source": [
    "dim_foreign_table = demographics_df.groupBy(\"state_code\").agg(F.sum(demographics_df[\"foreign_born\"]).alias(\"state_foreign_born\"))"
   ]
  },
  {
   "cell_type": "code",
   "execution_count": 53,
   "metadata": {},
   "outputs": [
    {
     "name": "stdout",
     "output_type": "stream",
     "text": [
      "+----------+------------------+\n",
      "|state_code|state_foreign_born|\n",
      "+----------+------------------+\n",
      "|        AZ|           3411565|\n",
      "|        SC|            134019|\n",
      "|        LA|            417095|\n",
      "|        MN|           1069888|\n",
      "|        NJ|           2327750|\n",
      "|        DC|            475585|\n",
      "|        OR|            928765|\n",
      "|        VA|           1346270|\n",
      "|        RI|            431507|\n",
      "|        KY|            332440|\n",
      "|        NH|            135995|\n",
      "|        MI|           1214547|\n",
      "|        NV|           2406685|\n",
      "|        WI|            623435|\n",
      "|        ID|            140630|\n",
      "|        CA|          37059662|\n",
      "|        CT|           1114250|\n",
      "|        NE|            356105|\n",
      "|        MT|             29885|\n",
      "|        NC|           1896635|\n",
      "+----------+------------------+\n",
      "only showing top 20 rows\n",
      "\n"
     ]
    }
   ],
   "source": [
    "dim_foreign_table.show()"
   ]
  },
  {
   "cell_type": "code",
   "execution_count": 54,
   "metadata": {},
   "outputs": [
    {
     "data": {
      "text/plain": [
       "49"
      ]
     },
     "execution_count": 54,
     "metadata": {},
     "output_type": "execute_result"
    }
   ],
   "source": [
    "dim_foreign_table.count()"
   ]
  },
  {
   "cell_type": "code",
   "execution_count": 56,
   "metadata": {},
   "outputs": [
    {
     "name": "stdout",
     "output_type": "stream",
     "text": [
      "root\n",
      " |-- state_code: string (nullable = true)\n",
      " |-- state_foreign_born: long (nullable = true)\n",
      "\n"
     ]
    }
   ],
   "source": [
    "dim_foreign_table.printSchema()"
   ]
  },
  {
   "cell_type": "code",
   "execution_count": 23,
   "metadata": {},
   "outputs": [],
   "source": [
    "dim_foreign_table = dim_foreign_table \\\n",
    "        .withColumn(\"state_foreign_born\", dim_foreign_table[\"state_foreign_born\"].cast(IntegerType()))"
   ]
  },
  {
   "cell_type": "code",
   "execution_count": 30,
   "metadata": {},
   "outputs": [
    {
     "name": "stdout",
     "output_type": "stream",
     "text": [
      "root\n",
      " |-- state_code: string (nullable = true)\n",
      " |-- state_foreign_born: integer (nullable = true)\n",
      "\n"
     ]
    }
   ],
   "source": [
    "dim_foreign_table.printSchema()"
   ]
  },
  {
   "cell_type": "code",
   "execution_count": 59,
   "metadata": {},
   "outputs": [
    {
     "name": "stdout",
     "output_type": "stream",
     "text": [
      "+----------+------------------+\n",
      "|state_code|state_foreign_born|\n",
      "+----------+------------------+\n",
      "|        AZ|           3411565|\n",
      "|        SC|            134019|\n",
      "|        LA|            417095|\n",
      "|        MN|           1069888|\n",
      "|        NJ|           2327750|\n",
      "|        DC|            475585|\n",
      "|        OR|            928765|\n",
      "|        VA|           1346270|\n",
      "|        RI|            431507|\n",
      "|        KY|            332440|\n",
      "|        NH|            135995|\n",
      "|        MI|           1214547|\n",
      "|        NV|           2406685|\n",
      "|        WI|            623435|\n",
      "|        ID|            140630|\n",
      "|        CA|          37059662|\n",
      "|        CT|           1114250|\n",
      "|        NE|            356105|\n",
      "|        MT|             29885|\n",
      "|        NC|           1896635|\n",
      "+----------+------------------+\n",
      "only showing top 20 rows\n",
      "\n"
     ]
    }
   ],
   "source": [
    "dim_foreign_table.show()"
   ]
  },
  {
   "cell_type": "markdown",
   "metadata": {},
   "source": [
    "## Step 3. ETL - Loading data"
   ]
  },
  {
   "cell_type": "markdown",
   "metadata": {},
   "source": [
    "### Loading parquet data to S3 bucket"
   ]
  },
  {
   "cell_type": "code",
   "execution_count": 62,
   "metadata": {},
   "outputs": [],
   "source": [
    "fact_table.write.mode(\"overwrite\").parquet(\"s3a://my-bucket/fact_table\")\n",
    "dim_state_table.write.mode('overwrite').parquet(\"s3a://my-bucket/dim_state_table\")\n",
    "dim_visa_table.write.mode('overwrite').parquet(\"s3a://my-bucket/dim_visa_table\")\n",
    "dim_foreign_table.write.mode('overwrite').parquet(\"s3a://my-bucket/dim_foreign_table\")"
   ]
  },
  {
   "cell_type": "markdown",
   "metadata": {},
   "source": [
    "## Step 4. Analytics"
   ]
  },
  {
   "cell_type": "markdown",
   "metadata": {},
   "source": [
    "### 4-1. Figure out the state that has the most immigrants"
   ]
  },
  {
   "cell_type": "code",
   "execution_count": 140,
   "metadata": {},
   "outputs": [],
   "source": [
    "import pandas as pd"
   ]
  },
  {
   "cell_type": "code",
   "execution_count": 141,
   "metadata": {},
   "outputs": [],
   "source": [
    "fact_pdf = fact_table.select(\"*\").toPandas()"
   ]
  },
  {
   "cell_type": "code",
   "execution_count": 142,
   "metadata": {},
   "outputs": [
    {
     "data": {
      "text/html": [
       "<div>\n",
       "<style scoped>\n",
       "    .dataframe tbody tr th:only-of-type {\n",
       "        vertical-align: middle;\n",
       "    }\n",
       "\n",
       "    .dataframe tbody tr th {\n",
       "        vertical-align: top;\n",
       "    }\n",
       "\n",
       "    .dataframe thead th {\n",
       "        text-align: right;\n",
       "    }\n",
       "</style>\n",
       "<table border=\"1\" class=\"dataframe\">\n",
       "  <thead>\n",
       "    <tr style=\"text-align: right;\">\n",
       "      <th></th>\n",
       "      <th>fact_id</th>\n",
       "      <th>state_code</th>\n",
       "      <th>immigration_count</th>\n",
       "      <th>white</th>\n",
       "      <th>asian</th>\n",
       "      <th>black</th>\n",
       "      <th>hispanic</th>\n",
       "      <th>indian</th>\n",
       "    </tr>\n",
       "  </thead>\n",
       "  <tbody>\n",
       "    <tr>\n",
       "      <th>0</th>\n",
       "      <td>34359738368</td>\n",
       "      <td>SC</td>\n",
       "      <td>9811</td>\n",
       "      <td>343764</td>\n",
       "      <td>13355</td>\n",
       "      <td>175064</td>\n",
       "      <td>29863</td>\n",
       "      <td>3705</td>\n",
       "    </tr>\n",
       "    <tr>\n",
       "      <th>1</th>\n",
       "      <td>34359738369</td>\n",
       "      <td>AZ</td>\n",
       "      <td>20218</td>\n",
       "      <td>3591611</td>\n",
       "      <td>229183</td>\n",
       "      <td>296222</td>\n",
       "      <td>1508157</td>\n",
       "      <td>129708</td>\n",
       "    </tr>\n",
       "    <tr>\n",
       "      <th>2</th>\n",
       "      <td>77309411328</td>\n",
       "      <td>LA</td>\n",
       "      <td>22655</td>\n",
       "      <td>654578</td>\n",
       "      <td>38739</td>\n",
       "      <td>602377</td>\n",
       "      <td>87133</td>\n",
       "      <td>8263</td>\n",
       "    </tr>\n",
       "    <tr>\n",
       "      <th>3</th>\n",
       "      <td>85899345920</td>\n",
       "      <td>MN</td>\n",
       "      <td>11194</td>\n",
       "      <td>1050239</td>\n",
       "      <td>151544</td>\n",
       "      <td>216731</td>\n",
       "      <td>103229</td>\n",
       "      <td>25242</td>\n",
       "    </tr>\n",
       "    <tr>\n",
       "      <th>4</th>\n",
       "      <td>137438953472</td>\n",
       "      <td>NJ</td>\n",
       "      <td>76531</td>\n",
       "      <td>615083</td>\n",
       "      <td>116844</td>\n",
       "      <td>452202</td>\n",
       "      <td>600437</td>\n",
       "      <td>11350</td>\n",
       "    </tr>\n",
       "  </tbody>\n",
       "</table>\n",
       "</div>"
      ],
      "text/plain": [
       "        fact_id state_code  immigration_count    white   asian   black  \\\n",
       "0   34359738368         SC               9811   343764   13355  175064   \n",
       "1   34359738369         AZ              20218  3591611  229183  296222   \n",
       "2   77309411328         LA              22655   654578   38739  602377   \n",
       "3   85899345920         MN              11194  1050239  151544  216731   \n",
       "4  137438953472         NJ              76531   615083  116844  452202   \n",
       "\n",
       "   hispanic  indian  \n",
       "0     29863    3705  \n",
       "1   1508157  129708  \n",
       "2     87133    8263  \n",
       "3    103229   25242  \n",
       "4    600437   11350  "
      ]
     },
     "execution_count": 142,
     "metadata": {},
     "output_type": "execute_result"
    }
   ],
   "source": [
    "fact_pdf.head(5)"
   ]
  },
  {
   "cell_type": "code",
   "execution_count": 143,
   "metadata": {},
   "outputs": [
    {
     "data": {
      "text/plain": [
       "621701"
      ]
     },
     "execution_count": 143,
     "metadata": {},
     "output_type": "execute_result"
    }
   ],
   "source": [
    "fact_pdf[\"immigration_count\"].max()"
   ]
  },
  {
   "cell_type": "code",
   "execution_count": 144,
   "metadata": {},
   "outputs": [
    {
     "data": {
      "text/html": [
       "<div>\n",
       "<style scoped>\n",
       "    .dataframe tbody tr th:only-of-type {\n",
       "        vertical-align: middle;\n",
       "    }\n",
       "\n",
       "    .dataframe tbody tr th {\n",
       "        vertical-align: top;\n",
       "    }\n",
       "\n",
       "    .dataframe thead th {\n",
       "        text-align: right;\n",
       "    }\n",
       "</style>\n",
       "<table border=\"1\" class=\"dataframe\">\n",
       "  <thead>\n",
       "    <tr style=\"text-align: right;\">\n",
       "      <th></th>\n",
       "      <th>fact_id</th>\n",
       "      <th>state_code</th>\n",
       "      <th>immigration_count</th>\n",
       "      <th>white</th>\n",
       "      <th>asian</th>\n",
       "      <th>black</th>\n",
       "      <th>hispanic</th>\n",
       "      <th>indian</th>\n",
       "    </tr>\n",
       "  </thead>\n",
       "  <tbody>\n",
       "    <tr>\n",
       "      <th>41</th>\n",
       "      <td>1503238553600</td>\n",
       "      <td>FL</td>\n",
       "      <td>621701</td>\n",
       "      <td>4758144</td>\n",
       "      <td>264933</td>\n",
       "      <td>1652619</td>\n",
       "      <td>1942022</td>\n",
       "      <td>46759</td>\n",
       "    </tr>\n",
       "  </tbody>\n",
       "</table>\n",
       "</div>"
      ],
      "text/plain": [
       "          fact_id state_code  immigration_count    white   asian    black  \\\n",
       "41  1503238553600         FL             621701  4758144  264933  1652619   \n",
       "\n",
       "    hispanic  indian  \n",
       "41   1942022   46759  "
      ]
     },
     "execution_count": 144,
     "metadata": {},
     "output_type": "execute_result"
    }
   ],
   "source": [
    "fact_pdf[fact_pdf.immigration_count == fact_pdf.immigration_count.max()]"
   ]
  },
  {
   "cell_type": "code",
   "execution_count": 146,
   "metadata": {},
   "outputs": [
    {
     "data": {
      "text/plain": [
       "'FL'"
      ]
     },
     "execution_count": 146,
     "metadata": {},
     "output_type": "execute_result"
    }
   ],
   "source": [
    "str(fact_pdf[fact_pdf.immigration_count == fact_pdf.immigration_count.max()]['state_code'].values[0])"
   ]
  },
  {
   "cell_type": "markdown",
   "metadata": {},
   "source": [
    "### 4-2. Figure out the state that has the least immigrants"
   ]
  },
  {
   "cell_type": "code",
   "execution_count": 147,
   "metadata": {},
   "outputs": [
    {
     "data": {
      "text/plain": [
       "557"
      ]
     },
     "execution_count": 147,
     "metadata": {},
     "output_type": "execute_result"
    }
   ],
   "source": [
    "fact_pdf[\"immigration_count\"].min()"
   ]
  },
  {
   "cell_type": "code",
   "execution_count": 148,
   "metadata": {},
   "outputs": [
    {
     "data": {
      "text/html": [
       "<div>\n",
       "<style scoped>\n",
       "    .dataframe tbody tr th:only-of-type {\n",
       "        vertical-align: middle;\n",
       "    }\n",
       "\n",
       "    .dataframe tbody tr th {\n",
       "        vertical-align: top;\n",
       "    }\n",
       "\n",
       "    .dataframe thead th {\n",
       "        text-align: right;\n",
       "    }\n",
       "</style>\n",
       "<table border=\"1\" class=\"dataframe\">\n",
       "  <thead>\n",
       "    <tr style=\"text-align: right;\">\n",
       "      <th></th>\n",
       "      <th>fact_id</th>\n",
       "      <th>state_code</th>\n",
       "      <th>immigration_count</th>\n",
       "      <th>white</th>\n",
       "      <th>asian</th>\n",
       "      <th>black</th>\n",
       "      <th>hispanic</th>\n",
       "      <th>indian</th>\n",
       "    </tr>\n",
       "  </thead>\n",
       "  <tbody>\n",
       "    <tr>\n",
       "      <th>35</th>\n",
       "      <td>996432412672</td>\n",
       "      <td>SD</td>\n",
       "      <td>557</td>\n",
       "      <td>213281</td>\n",
       "      <td>6859</td>\n",
       "      <td>13121</td>\n",
       "      <td>12359</td>\n",
       "      <td>13782</td>\n",
       "    </tr>\n",
       "  </tbody>\n",
       "</table>\n",
       "</div>"
      ],
      "text/plain": [
       "         fact_id state_code  immigration_count   white  asian  black  \\\n",
       "35  996432412672         SD                557  213281   6859  13121   \n",
       "\n",
       "    hispanic  indian  \n",
       "35     12359   13782  "
      ]
     },
     "execution_count": 148,
     "metadata": {},
     "output_type": "execute_result"
    }
   ],
   "source": [
    "fact_pdf[fact_pdf.immigration_count == fact_pdf.immigration_count.min()]"
   ]
  },
  {
   "cell_type": "code",
   "execution_count": 149,
   "metadata": {},
   "outputs": [
    {
     "data": {
      "text/plain": [
       "'SD'"
      ]
     },
     "execution_count": 149,
     "metadata": {},
     "output_type": "execute_result"
    }
   ],
   "source": [
    "str(fact_pdf[fact_pdf.immigration_count == fact_pdf.immigration_count.min()]['state_code'].values[0])"
   ]
  },
  {
   "cell_type": "markdown",
   "metadata": {},
   "source": [
    "### 4-3. Figure out the state that has the most ratio of white people"
   ]
  },
  {
   "cell_type": "code",
   "execution_count": 50,
   "metadata": {},
   "outputs": [
    {
     "data": {
      "text/html": [
       "<div>\n",
       "<style scoped>\n",
       "    .dataframe tbody tr th:only-of-type {\n",
       "        vertical-align: middle;\n",
       "    }\n",
       "\n",
       "    .dataframe tbody tr th {\n",
       "        vertical-align: top;\n",
       "    }\n",
       "\n",
       "    .dataframe thead th {\n",
       "        text-align: right;\n",
       "    }\n",
       "</style>\n",
       "<table border=\"1\" class=\"dataframe\">\n",
       "  <thead>\n",
       "    <tr style=\"text-align: right;\">\n",
       "      <th></th>\n",
       "      <th>fact_id</th>\n",
       "      <th>state_code</th>\n",
       "      <th>immigration_count</th>\n",
       "      <th>white</th>\n",
       "      <th>asian</th>\n",
       "      <th>black</th>\n",
       "      <th>hispanic</th>\n",
       "      <th>indian</th>\n",
       "    </tr>\n",
       "  </thead>\n",
       "  <tbody>\n",
       "    <tr>\n",
       "      <th>0</th>\n",
       "      <td>34359738368</td>\n",
       "      <td>SC</td>\n",
       "      <td>9811</td>\n",
       "      <td>343764</td>\n",
       "      <td>13355</td>\n",
       "      <td>175064</td>\n",
       "      <td>29863</td>\n",
       "      <td>3705</td>\n",
       "    </tr>\n",
       "    <tr>\n",
       "      <th>1</th>\n",
       "      <td>34359738369</td>\n",
       "      <td>AZ</td>\n",
       "      <td>20218</td>\n",
       "      <td>3591611</td>\n",
       "      <td>229183</td>\n",
       "      <td>296222</td>\n",
       "      <td>1508157</td>\n",
       "      <td>129708</td>\n",
       "    </tr>\n",
       "    <tr>\n",
       "      <th>2</th>\n",
       "      <td>77309411328</td>\n",
       "      <td>LA</td>\n",
       "      <td>22655</td>\n",
       "      <td>654578</td>\n",
       "      <td>38739</td>\n",
       "      <td>602377</td>\n",
       "      <td>87133</td>\n",
       "      <td>8263</td>\n",
       "    </tr>\n",
       "    <tr>\n",
       "      <th>3</th>\n",
       "      <td>85899345920</td>\n",
       "      <td>MN</td>\n",
       "      <td>11194</td>\n",
       "      <td>1050239</td>\n",
       "      <td>151544</td>\n",
       "      <td>216731</td>\n",
       "      <td>103229</td>\n",
       "      <td>25242</td>\n",
       "    </tr>\n",
       "    <tr>\n",
       "      <th>4</th>\n",
       "      <td>137438953472</td>\n",
       "      <td>NJ</td>\n",
       "      <td>76531</td>\n",
       "      <td>615083</td>\n",
       "      <td>116844</td>\n",
       "      <td>452202</td>\n",
       "      <td>600437</td>\n",
       "      <td>11350</td>\n",
       "    </tr>\n",
       "    <tr>\n",
       "      <th>5</th>\n",
       "      <td>180388626432</td>\n",
       "      <td>DC</td>\n",
       "      <td>28228</td>\n",
       "      <td>285402</td>\n",
       "      <td>35072</td>\n",
       "      <td>328786</td>\n",
       "      <td>71129</td>\n",
       "      <td>6130</td>\n",
       "    </tr>\n",
       "    <tr>\n",
       "      <th>6</th>\n",
       "      <td>257698037760</td>\n",
       "      <td>OR</td>\n",
       "      <td>12574</td>\n",
       "      <td>1235819</td>\n",
       "      <td>117279</td>\n",
       "      <td>72150</td>\n",
       "      <td>201498</td>\n",
       "      <td>38597</td>\n",
       "    </tr>\n",
       "    <tr>\n",
       "      <th>7</th>\n",
       "      <td>360777252864</td>\n",
       "      <td>VA</td>\n",
       "      <td>31399</td>\n",
       "      <td>1428158</td>\n",
       "      <td>167784</td>\n",
       "      <td>771569</td>\n",
       "      <td>216760</td>\n",
       "      <td>26160</td>\n",
       "    </tr>\n",
       "    <tr>\n",
       "      <th>8</th>\n",
       "      <td>403726925824</td>\n",
       "      <td>RI</td>\n",
       "      <td>3289</td>\n",
       "      <td>287304</td>\n",
       "      <td>24245</td>\n",
       "      <td>55556</td>\n",
       "      <td>109226</td>\n",
       "      <td>6369</td>\n",
       "    </tr>\n",
       "    <tr>\n",
       "      <th>9</th>\n",
       "      <td>420906795008</td>\n",
       "      <td>KY</td>\n",
       "      <td>5790</td>\n",
       "      <td>705790</td>\n",
       "      <td>32667</td>\n",
       "      <td>202749</td>\n",
       "      <td>50478</td>\n",
       "      <td>7772</td>\n",
       "    </tr>\n",
       "  </tbody>\n",
       "</table>\n",
       "</div>"
      ],
      "text/plain": [
       "        fact_id state_code  immigration_count    white   asian   black  \\\n",
       "0   34359738368         SC               9811   343764   13355  175064   \n",
       "1   34359738369         AZ              20218  3591611  229183  296222   \n",
       "2   77309411328         LA              22655   654578   38739  602377   \n",
       "3   85899345920         MN              11194  1050239  151544  216731   \n",
       "4  137438953472         NJ              76531   615083  116844  452202   \n",
       "5  180388626432         DC              28228   285402   35072  328786   \n",
       "6  257698037760         OR              12574  1235819  117279   72150   \n",
       "7  360777252864         VA              31399  1428158  167784  771569   \n",
       "8  403726925824         RI               3289   287304   24245   55556   \n",
       "9  420906795008         KY               5790   705790   32667  202749   \n",
       "\n",
       "   hispanic  indian  \n",
       "0     29863    3705  \n",
       "1   1508157  129708  \n",
       "2     87133    8263  \n",
       "3    103229   25242  \n",
       "4    600437   11350  \n",
       "5     71129    6130  \n",
       "6    201498   38597  \n",
       "7    216760   26160  \n",
       "8    109226    6369  \n",
       "9     50478    7772  "
      ]
     },
     "execution_count": 50,
     "metadata": {},
     "output_type": "execute_result"
    }
   ],
   "source": [
    "fact_pdf.head(10)"
   ]
  },
  {
   "cell_type": "code",
   "execution_count": 81,
   "metadata": {},
   "outputs": [],
   "source": [
    "fact_pdf['white_percentage'] = (fact_pdf['white']/(fact_pdf['white']+fact_pdf['asian']+fact_pdf['black']+fact_pdf['hispanic']+fact_pdf['indian']) * 100).round(2)"
   ]
  },
  {
   "cell_type": "code",
   "execution_count": 82,
   "metadata": {},
   "outputs": [
    {
     "data": {
      "text/html": [
       "<div>\n",
       "<style scoped>\n",
       "    .dataframe tbody tr th:only-of-type {\n",
       "        vertical-align: middle;\n",
       "    }\n",
       "\n",
       "    .dataframe tbody tr th {\n",
       "        vertical-align: top;\n",
       "    }\n",
       "\n",
       "    .dataframe thead th {\n",
       "        text-align: right;\n",
       "    }\n",
       "</style>\n",
       "<table border=\"1\" class=\"dataframe\">\n",
       "  <thead>\n",
       "    <tr style=\"text-align: right;\">\n",
       "      <th></th>\n",
       "      <th>fact_id</th>\n",
       "      <th>state_code</th>\n",
       "      <th>immigration_count</th>\n",
       "      <th>white</th>\n",
       "      <th>asian</th>\n",
       "      <th>black</th>\n",
       "      <th>hispanic</th>\n",
       "      <th>indian</th>\n",
       "      <th>white_percentage</th>\n",
       "      <th>white_percentage[%]</th>\n",
       "    </tr>\n",
       "  </thead>\n",
       "  <tbody>\n",
       "    <tr>\n",
       "      <th>0</th>\n",
       "      <td>34359738368</td>\n",
       "      <td>SC</td>\n",
       "      <td>9811</td>\n",
       "      <td>343764</td>\n",
       "      <td>13355</td>\n",
       "      <td>175064</td>\n",
       "      <td>29863</td>\n",
       "      <td>3705</td>\n",
       "      <td>60.76</td>\n",
       "      <td>60.76</td>\n",
       "    </tr>\n",
       "    <tr>\n",
       "      <th>1</th>\n",
       "      <td>34359738369</td>\n",
       "      <td>AZ</td>\n",
       "      <td>20218</td>\n",
       "      <td>3591611</td>\n",
       "      <td>229183</td>\n",
       "      <td>296222</td>\n",
       "      <td>1508157</td>\n",
       "      <td>129708</td>\n",
       "      <td>62.41</td>\n",
       "      <td>62.41</td>\n",
       "    </tr>\n",
       "    <tr>\n",
       "      <th>2</th>\n",
       "      <td>77309411328</td>\n",
       "      <td>LA</td>\n",
       "      <td>22655</td>\n",
       "      <td>654578</td>\n",
       "      <td>38739</td>\n",
       "      <td>602377</td>\n",
       "      <td>87133</td>\n",
       "      <td>8263</td>\n",
       "      <td>47.06</td>\n",
       "      <td>47.06</td>\n",
       "    </tr>\n",
       "    <tr>\n",
       "      <th>3</th>\n",
       "      <td>85899345920</td>\n",
       "      <td>MN</td>\n",
       "      <td>11194</td>\n",
       "      <td>1050239</td>\n",
       "      <td>151544</td>\n",
       "      <td>216731</td>\n",
       "      <td>103229</td>\n",
       "      <td>25242</td>\n",
       "      <td>67.89</td>\n",
       "      <td>67.89</td>\n",
       "    </tr>\n",
       "    <tr>\n",
       "      <th>4</th>\n",
       "      <td>137438953472</td>\n",
       "      <td>NJ</td>\n",
       "      <td>76531</td>\n",
       "      <td>615083</td>\n",
       "      <td>116844</td>\n",
       "      <td>452202</td>\n",
       "      <td>600437</td>\n",
       "      <td>11350</td>\n",
       "      <td>34.25</td>\n",
       "      <td>34.25</td>\n",
       "    </tr>\n",
       "    <tr>\n",
       "      <th>5</th>\n",
       "      <td>180388626432</td>\n",
       "      <td>DC</td>\n",
       "      <td>28228</td>\n",
       "      <td>285402</td>\n",
       "      <td>35072</td>\n",
       "      <td>328786</td>\n",
       "      <td>71129</td>\n",
       "      <td>6130</td>\n",
       "      <td>39.28</td>\n",
       "      <td>39.28</td>\n",
       "    </tr>\n",
       "    <tr>\n",
       "      <th>6</th>\n",
       "      <td>257698037760</td>\n",
       "      <td>OR</td>\n",
       "      <td>12574</td>\n",
       "      <td>1235819</td>\n",
       "      <td>117279</td>\n",
       "      <td>72150</td>\n",
       "      <td>201498</td>\n",
       "      <td>38597</td>\n",
       "      <td>74.21</td>\n",
       "      <td>74.21</td>\n",
       "    </tr>\n",
       "    <tr>\n",
       "      <th>7</th>\n",
       "      <td>360777252864</td>\n",
       "      <td>VA</td>\n",
       "      <td>31399</td>\n",
       "      <td>1428158</td>\n",
       "      <td>167784</td>\n",
       "      <td>771569</td>\n",
       "      <td>216760</td>\n",
       "      <td>26160</td>\n",
       "      <td>54.71</td>\n",
       "      <td>54.71</td>\n",
       "    </tr>\n",
       "    <tr>\n",
       "      <th>8</th>\n",
       "      <td>403726925824</td>\n",
       "      <td>RI</td>\n",
       "      <td>3289</td>\n",
       "      <td>287304</td>\n",
       "      <td>24245</td>\n",
       "      <td>55556</td>\n",
       "      <td>109226</td>\n",
       "      <td>6369</td>\n",
       "      <td>59.52</td>\n",
       "      <td>59.52</td>\n",
       "    </tr>\n",
       "    <tr>\n",
       "      <th>9</th>\n",
       "      <td>420906795008</td>\n",
       "      <td>KY</td>\n",
       "      <td>5790</td>\n",
       "      <td>705790</td>\n",
       "      <td>32667</td>\n",
       "      <td>202749</td>\n",
       "      <td>50478</td>\n",
       "      <td>7772</td>\n",
       "      <td>70.62</td>\n",
       "      <td>70.62</td>\n",
       "    </tr>\n",
       "  </tbody>\n",
       "</table>\n",
       "</div>"
      ],
      "text/plain": [
       "        fact_id state_code  immigration_count    white   asian   black  \\\n",
       "0   34359738368         SC               9811   343764   13355  175064   \n",
       "1   34359738369         AZ              20218  3591611  229183  296222   \n",
       "2   77309411328         LA              22655   654578   38739  602377   \n",
       "3   85899345920         MN              11194  1050239  151544  216731   \n",
       "4  137438953472         NJ              76531   615083  116844  452202   \n",
       "5  180388626432         DC              28228   285402   35072  328786   \n",
       "6  257698037760         OR              12574  1235819  117279   72150   \n",
       "7  360777252864         VA              31399  1428158  167784  771569   \n",
       "8  403726925824         RI               3289   287304   24245   55556   \n",
       "9  420906795008         KY               5790   705790   32667  202749   \n",
       "\n",
       "   hispanic  indian  white_percentage  white_percentage[%]  \n",
       "0     29863    3705             60.76                60.76  \n",
       "1   1508157  129708             62.41                62.41  \n",
       "2     87133    8263             47.06                47.06  \n",
       "3    103229   25242             67.89                67.89  \n",
       "4    600437   11350             34.25                34.25  \n",
       "5     71129    6130             39.28                39.28  \n",
       "6    201498   38597             74.21                74.21  \n",
       "7    216760   26160             54.71                54.71  \n",
       "8    109226    6369             59.52                59.52  \n",
       "9     50478    7772             70.62                70.62  "
      ]
     },
     "execution_count": 82,
     "metadata": {},
     "output_type": "execute_result"
    }
   ],
   "source": [
    "fact_pdf.head(10)"
   ]
  },
  {
   "cell_type": "code",
   "execution_count": 85,
   "metadata": {},
   "outputs": [],
   "source": [
    "fact_pdf = fact_pdf.drop(columns=['white_percentage[%]'])"
   ]
  },
  {
   "cell_type": "code",
   "execution_count": 86,
   "metadata": {},
   "outputs": [
    {
     "name": "stdout",
     "output_type": "stream",
     "text": [
      "<class 'pandas.core.frame.DataFrame'>\n",
      "RangeIndex: 49 entries, 0 to 48\n",
      "Data columns (total 9 columns):\n",
      "fact_id              49 non-null int64\n",
      "state_code           49 non-null object\n",
      "immigration_count    49 non-null int32\n",
      "white                49 non-null int32\n",
      "asian                49 non-null int32\n",
      "black                49 non-null int32\n",
      "hispanic             49 non-null int32\n",
      "indian               49 non-null int32\n",
      "white_percentage     49 non-null float64\n",
      "dtypes: float64(1), int32(6), int64(1), object(1)\n",
      "memory usage: 2.4+ KB\n"
     ]
    }
   ],
   "source": [
    "fact_pdf.info(verbose=True)"
   ]
  },
  {
   "cell_type": "code",
   "execution_count": 87,
   "metadata": {},
   "outputs": [
    {
     "data": {
      "text/plain": [
       "86.82"
      ]
     },
     "execution_count": 87,
     "metadata": {},
     "output_type": "execute_result"
    }
   ],
   "source": [
    "fact_pdf[\"white_percentage\"].max()"
   ]
  },
  {
   "cell_type": "code",
   "execution_count": 97,
   "metadata": {},
   "outputs": [
    {
     "data": {
      "text/html": [
       "<div>\n",
       "<style scoped>\n",
       "    .dataframe tbody tr th:only-of-type {\n",
       "        vertical-align: middle;\n",
       "    }\n",
       "\n",
       "    .dataframe tbody tr th {\n",
       "        vertical-align: top;\n",
       "    }\n",
       "\n",
       "    .dataframe thead th {\n",
       "        text-align: right;\n",
       "    }\n",
       "</style>\n",
       "<table border=\"1\" class=\"dataframe\">\n",
       "  <thead>\n",
       "    <tr style=\"text-align: right;\">\n",
       "      <th></th>\n",
       "      <th>fact_id</th>\n",
       "      <th>state_code</th>\n",
       "      <th>immigration_count</th>\n",
       "      <th>white</th>\n",
       "      <th>asian</th>\n",
       "      <th>black</th>\n",
       "      <th>hispanic</th>\n",
       "      <th>indian</th>\n",
       "      <th>white_percentage</th>\n",
       "    </tr>\n",
       "  </thead>\n",
       "  <tbody>\n",
       "    <tr>\n",
       "      <th>26</th>\n",
       "      <td>781684047873</td>\n",
       "      <td>ND</td>\n",
       "      <td>1225</td>\n",
       "      <td>172068</td>\n",
       "      <td>5576</td>\n",
       "      <td>8177</td>\n",
       "      <td>5234</td>\n",
       "      <td>7142</td>\n",
       "      <td>86.82</td>\n",
       "    </tr>\n",
       "  </tbody>\n",
       "</table>\n",
       "</div>"
      ],
      "text/plain": [
       "         fact_id state_code  immigration_count   white  asian  black  \\\n",
       "26  781684047873         ND               1225  172068   5576   8177   \n",
       "\n",
       "    hispanic  indian  white_percentage  \n",
       "26      5234    7142             86.82  "
      ]
     },
     "execution_count": 97,
     "metadata": {},
     "output_type": "execute_result"
    }
   ],
   "source": [
    "fact_pdf[fact_pdf.white_percentage == fact_pdf.white_percentage.max()]"
   ]
  },
  {
   "cell_type": "code",
   "execution_count": 112,
   "metadata": {},
   "outputs": [
    {
     "data": {
      "text/plain": [
       "26    172068\n",
       "Name: white, dtype: int32"
      ]
     },
     "execution_count": 112,
     "metadata": {},
     "output_type": "execute_result"
    }
   ],
   "source": [
    "fact_pdf[fact_pdf.white_percentage == fact_pdf.white_percentage.max()]['white']"
   ]
  },
  {
   "cell_type": "code",
   "execution_count": 111,
   "metadata": {},
   "outputs": [
    {
     "data": {
      "text/plain": [
       "172068"
      ]
     },
     "execution_count": 111,
     "metadata": {},
     "output_type": "execute_result"
    }
   ],
   "source": [
    "fact_pdf[fact_pdf.white_percentage == fact_pdf.white_percentage.max()]['white'].values[0]"
   ]
  },
  {
   "cell_type": "code",
   "execution_count": 120,
   "metadata": {},
   "outputs": [
    {
     "data": {
      "text/plain": [
       "'ND'"
      ]
     },
     "execution_count": 120,
     "metadata": {},
     "output_type": "execute_result"
    }
   ],
   "source": [
    "str(fact_pdf[fact_pdf.white_percentage == fact_pdf.white_percentage.max()]['state_code'].values[0])"
   ]
  },
  {
   "cell_type": "markdown",
   "metadata": {},
   "source": [
    "### 4-4. Figure out the state that has the least ratio of white people"
   ]
  },
  {
   "cell_type": "code",
   "execution_count": 89,
   "metadata": {},
   "outputs": [
    {
     "data": {
      "text/plain": [
       "0.0"
      ]
     },
     "execution_count": 89,
     "metadata": {},
     "output_type": "execute_result"
    }
   ],
   "source": [
    "fact_pdf[\"white_percentage\"].min()"
   ]
  },
  {
   "cell_type": "code",
   "execution_count": 114,
   "metadata": {},
   "outputs": [],
   "source": [
    "fact_pdf_2 = fact_pdf.replace(0, fact_pdf[fact_pdf.white_percentage == fact_pdf.white_percentage.max()]['white'].values[0])"
   ]
  },
  {
   "cell_type": "code",
   "execution_count": 117,
   "metadata": {},
   "outputs": [
    {
     "data": {
      "text/plain": [
       "28.09"
      ]
     },
     "execution_count": 117,
     "metadata": {},
     "output_type": "execute_result"
    }
   ],
   "source": [
    "fact_pdf_2[\"white_percentage\"].min()"
   ]
  },
  {
   "cell_type": "code",
   "execution_count": 118,
   "metadata": {},
   "outputs": [
    {
     "data": {
      "text/html": [
       "<div>\n",
       "<style scoped>\n",
       "    .dataframe tbody tr th:only-of-type {\n",
       "        vertical-align: middle;\n",
       "    }\n",
       "\n",
       "    .dataframe tbody tr th {\n",
       "        vertical-align: top;\n",
       "    }\n",
       "\n",
       "    .dataframe thead th {\n",
       "        text-align: right;\n",
       "    }\n",
       "</style>\n",
       "<table border=\"1\" class=\"dataframe\">\n",
       "  <thead>\n",
       "    <tr style=\"text-align: right;\">\n",
       "      <th></th>\n",
       "      <th>fact_id</th>\n",
       "      <th>state_code</th>\n",
       "      <th>immigration_count</th>\n",
       "      <th>white</th>\n",
       "      <th>asian</th>\n",
       "      <th>black</th>\n",
       "      <th>hispanic</th>\n",
       "      <th>indian</th>\n",
       "      <th>white_percentage</th>\n",
       "    </tr>\n",
       "  </thead>\n",
       "  <tbody>\n",
       "    <tr>\n",
       "      <th>48</th>\n",
       "      <td>1709396983808</td>\n",
       "      <td>HI</td>\n",
       "      <td>168764</td>\n",
       "      <td>110508</td>\n",
       "      <td>240978</td>\n",
       "      <td>11781</td>\n",
       "      <td>24586</td>\n",
       "      <td>5592</td>\n",
       "      <td>28.09</td>\n",
       "    </tr>\n",
       "  </tbody>\n",
       "</table>\n",
       "</div>"
      ],
      "text/plain": [
       "          fact_id state_code  immigration_count   white   asian  black  \\\n",
       "48  1709396983808         HI             168764  110508  240978  11781   \n",
       "\n",
       "    hispanic  indian  white_percentage  \n",
       "48     24586    5592             28.09  "
      ]
     },
     "execution_count": 118,
     "metadata": {},
     "output_type": "execute_result"
    }
   ],
   "source": [
    "fact_pdf_2[fact_pdf_2.white_percentage == fact_pdf_2.white_percentage.min()]"
   ]
  },
  {
   "cell_type": "code",
   "execution_count": 150,
   "metadata": {},
   "outputs": [
    {
     "data": {
      "text/plain": [
       "'HI'"
      ]
     },
     "execution_count": 150,
     "metadata": {},
     "output_type": "execute_result"
    }
   ],
   "source": [
    "str(fact_pdf_2[fact_pdf_2.white_percentage == fact_pdf_2.white_percentage.min()]['state_code'].values[0])"
   ]
  }
 ],
 "metadata": {
  "kernelspec": {
   "display_name": "Python 2",
   "language": "python",
   "name": "python2"
  },
  "language_info": {
   "codemirror_mode": {
    "name": "ipython",
    "version": 2
   },
   "file_extension": ".py",
   "mimetype": "text/x-python",
   "name": "python",
   "nbconvert_exporter": "python",
   "pygments_lexer": "ipython2",
   "version": "2.7.16"
  }
 },
 "nbformat": 4,
 "nbformat_minor": 4
}
